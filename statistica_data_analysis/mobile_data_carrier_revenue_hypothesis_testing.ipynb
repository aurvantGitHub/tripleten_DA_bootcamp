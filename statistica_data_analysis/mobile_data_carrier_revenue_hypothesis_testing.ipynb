{
 "cells": [
  {
   "cell_type": "markdown",
   "metadata": {
    "id": "3rYiDeEH0q0f"
   },
   "source": [
    "# ¿Cuál es la mejor tarifa?\n",
    "\n",
    "La empresa Megaline ofrece a sus clientes dos tarifas de prepago, Surf y Ultimate. El departamento comercial quiere saber cuál de las tarifas genera más ingresos para poder ajustar el presupuesto de publicidad.\n",
    "\n",
    "Vas a realizar un análisis preliminar de las tarifas basado en una selección de clientes relativamente pequeña. Tendrás los datos de 500 clientes de Megaline: quiénes son los clientes, de dónde son, qué tarifa usan, así como la cantidad de llamadas que hicieron y los mensajes de texto que enviaron en 2018. Tu trabajo es analizar el comportamiento de los clientes y determinar qué tarifa de prepago genera más ingresos."
   ]
  },
  {
   "cell_type": "markdown",
   "metadata": {
    "id": "MQi4IPy70q0y"
   },
   "source": [
    "## Inicialización"
   ]
  },
  {
   "cell_type": "code",
   "execution_count": 56,
   "metadata": {
    "id": "MtYIuBxu0q0z"
   },
   "outputs": [],
   "source": [
    "# Cargar todas las librerías\n",
    "from scipy import stats as st\n",
    "import matplotlib.pyplot as plt\n",
    "import pandas as pd\n",
    "import numpy as np\n",
    "import math as mt\n"
   ]
  },
  {
   "cell_type": "markdown",
   "metadata": {
    "id": "4ysWWC5i0q00"
   },
   "source": [
    "## Cargar datos"
   ]
  },
  {
   "cell_type": "code",
   "execution_count": 57,
   "metadata": {
    "id": "CCqPW7rS0q01"
   },
   "outputs": [],
   "source": [
    "# Carga los archivos de datos en diferentes DataFrames\n",
    "users = pd.read_csv('/datasets/megaline_users.csv')\n",
    "calls = pd.read_csv('/datasets/megaline_calls.csv')\n",
    "messages = pd.read_csv('/datasets/megaline_messages.csv')\n",
    "internet = pd.read_csv('/datasets/megaline_internet.csv')\n",
    "plans = pd.read_csv('/datasets/megaline_plans.csv')"
   ]
  },
  {
   "cell_type": "markdown",
   "metadata": {
    "id": "69qqoJ3r0q01"
   },
   "source": [
    "## Preparar los datos"
   ]
  },
  {
   "cell_type": "markdown",
   "metadata": {
    "id": "ohBhimvH0q01"
   },
   "source": [
    "## Tarifas"
   ]
  },
  {
   "cell_type": "code",
   "execution_count": 58,
   "metadata": {
    "id": "GptqP3Q40q02"
   },
   "outputs": [
    {
     "name": "stdout",
     "output_type": "stream",
     "text": [
      "<class 'pandas.core.frame.DataFrame'>\n",
      "RangeIndex: 2 entries, 0 to 1\n",
      "Data columns (total 8 columns):\n",
      " #   Column                 Non-Null Count  Dtype  \n",
      "---  ------                 --------------  -----  \n",
      " 0   messages_included      2 non-null      int64  \n",
      " 1   mb_per_month_included  2 non-null      int64  \n",
      " 2   minutes_included       2 non-null      int64  \n",
      " 3   usd_monthly_pay        2 non-null      int64  \n",
      " 4   usd_per_gb             2 non-null      int64  \n",
      " 5   usd_per_message        2 non-null      float64\n",
      " 6   usd_per_minute         2 non-null      float64\n",
      " 7   plan_name              2 non-null      object \n",
      "dtypes: float64(2), int64(5), object(1)\n",
      "memory usage: 256.0+ bytes\n"
     ]
    }
   ],
   "source": [
    "# Imprime la información general/resumida sobre el DataFrame de las tarifas\n",
    "plans.info()\n"
   ]
  },
  {
   "cell_type": "code",
   "execution_count": 59,
   "metadata": {
    "id": "64xzjwL70q02"
   },
   "outputs": [
    {
     "data": {
      "text/html": [
       "<div>\n",
       "<style scoped>\n",
       "    .dataframe tbody tr th:only-of-type {\n",
       "        vertical-align: middle;\n",
       "    }\n",
       "\n",
       "    .dataframe tbody tr th {\n",
       "        vertical-align: top;\n",
       "    }\n",
       "\n",
       "    .dataframe thead th {\n",
       "        text-align: right;\n",
       "    }\n",
       "</style>\n",
       "<table border=\"1\" class=\"dataframe\">\n",
       "  <thead>\n",
       "    <tr style=\"text-align: right;\">\n",
       "      <th></th>\n",
       "      <th>messages_included</th>\n",
       "      <th>mb_per_month_included</th>\n",
       "      <th>minutes_included</th>\n",
       "      <th>usd_monthly_pay</th>\n",
       "      <th>usd_per_gb</th>\n",
       "      <th>usd_per_message</th>\n",
       "      <th>usd_per_minute</th>\n",
       "      <th>plan_name</th>\n",
       "    </tr>\n",
       "  </thead>\n",
       "  <tbody>\n",
       "    <tr>\n",
       "      <th>0</th>\n",
       "      <td>50</td>\n",
       "      <td>15360</td>\n",
       "      <td>500</td>\n",
       "      <td>20</td>\n",
       "      <td>10</td>\n",
       "      <td>0.03</td>\n",
       "      <td>0.03</td>\n",
       "      <td>surf</td>\n",
       "    </tr>\n",
       "    <tr>\n",
       "      <th>1</th>\n",
       "      <td>1000</td>\n",
       "      <td>30720</td>\n",
       "      <td>3000</td>\n",
       "      <td>70</td>\n",
       "      <td>7</td>\n",
       "      <td>0.01</td>\n",
       "      <td>0.01</td>\n",
       "      <td>ultimate</td>\n",
       "    </tr>\n",
       "  </tbody>\n",
       "</table>\n",
       "</div>"
      ],
      "text/plain": [
       "   messages_included  mb_per_month_included  minutes_included  \\\n",
       "0                 50                  15360               500   \n",
       "1               1000                  30720              3000   \n",
       "\n",
       "   usd_monthly_pay  usd_per_gb  usd_per_message  usd_per_minute plan_name  \n",
       "0               20          10             0.03            0.03      surf  \n",
       "1               70           7             0.01            0.01  ultimate  "
      ]
     },
     "execution_count": 59,
     "metadata": {},
     "output_type": "execute_result"
    }
   ],
   "source": [
    "# Imprime una muestra de los datos para las tarifas\n",
    "plans.head()\n"
   ]
  },
  {
   "cell_type": "markdown",
   "metadata": {
    "id": "mEc_3_hs0q02"
   },
   "source": [
    "De lo que se puede apreciar, esta tabla no cuenta con valores nulos ni repetidos (solo cuenta con dos valores). Adicionalmente, todas las columnas poseen los tipos de dato correctos.\n",
    "No se realizan modificaciones."
   ]
  },
  {
   "cell_type": "markdown",
   "metadata": {
    "id": "1n2X6WXf0q04"
   },
   "source": [
    "## Usuarios/as"
   ]
  },
  {
   "cell_type": "code",
   "execution_count": 62,
   "metadata": {
    "id": "2NgjWFqx0q05"
   },
   "outputs": [
    {
     "name": "stdout",
     "output_type": "stream",
     "text": [
      "<class 'pandas.core.frame.DataFrame'>\n",
      "RangeIndex: 500 entries, 0 to 499\n",
      "Data columns (total 8 columns):\n",
      " #   Column      Non-Null Count  Dtype \n",
      "---  ------      --------------  ----- \n",
      " 0   user_id     500 non-null    int64 \n",
      " 1   first_name  500 non-null    object\n",
      " 2   last_name   500 non-null    object\n",
      " 3   age         500 non-null    int64 \n",
      " 4   city        500 non-null    object\n",
      " 5   reg_date    500 non-null    object\n",
      " 6   plan        500 non-null    object\n",
      " 7   churn_date  34 non-null     object\n",
      "dtypes: int64(2), object(6)\n",
      "memory usage: 31.4+ KB\n"
     ]
    }
   ],
   "source": [
    "# Imprime la información general/resumida sobre el DataFrame de usuarios\n",
    "users.info()\n"
   ]
  },
  {
   "cell_type": "code",
   "execution_count": 63,
   "metadata": {
    "id": "1IN1L9uh0q05"
   },
   "outputs": [
    {
     "data": {
      "text/html": [
       "<div>\n",
       "<style scoped>\n",
       "    .dataframe tbody tr th:only-of-type {\n",
       "        vertical-align: middle;\n",
       "    }\n",
       "\n",
       "    .dataframe tbody tr th {\n",
       "        vertical-align: top;\n",
       "    }\n",
       "\n",
       "    .dataframe thead th {\n",
       "        text-align: right;\n",
       "    }\n",
       "</style>\n",
       "<table border=\"1\" class=\"dataframe\">\n",
       "  <thead>\n",
       "    <tr style=\"text-align: right;\">\n",
       "      <th></th>\n",
       "      <th>user_id</th>\n",
       "      <th>first_name</th>\n",
       "      <th>last_name</th>\n",
       "      <th>age</th>\n",
       "      <th>city</th>\n",
       "      <th>reg_date</th>\n",
       "      <th>plan</th>\n",
       "      <th>churn_date</th>\n",
       "    </tr>\n",
       "  </thead>\n",
       "  <tbody>\n",
       "    <tr>\n",
       "      <th>0</th>\n",
       "      <td>1000</td>\n",
       "      <td>Anamaria</td>\n",
       "      <td>Bauer</td>\n",
       "      <td>45</td>\n",
       "      <td>Atlanta-Sandy Springs-Roswell, GA MSA</td>\n",
       "      <td>2018-12-24</td>\n",
       "      <td>ultimate</td>\n",
       "      <td>NaN</td>\n",
       "    </tr>\n",
       "    <tr>\n",
       "      <th>1</th>\n",
       "      <td>1001</td>\n",
       "      <td>Mickey</td>\n",
       "      <td>Wilkerson</td>\n",
       "      <td>28</td>\n",
       "      <td>Seattle-Tacoma-Bellevue, WA MSA</td>\n",
       "      <td>2018-08-13</td>\n",
       "      <td>surf</td>\n",
       "      <td>NaN</td>\n",
       "    </tr>\n",
       "    <tr>\n",
       "      <th>2</th>\n",
       "      <td>1002</td>\n",
       "      <td>Carlee</td>\n",
       "      <td>Hoffman</td>\n",
       "      <td>36</td>\n",
       "      <td>Las Vegas-Henderson-Paradise, NV MSA</td>\n",
       "      <td>2018-10-21</td>\n",
       "      <td>surf</td>\n",
       "      <td>NaN</td>\n",
       "    </tr>\n",
       "    <tr>\n",
       "      <th>3</th>\n",
       "      <td>1003</td>\n",
       "      <td>Reynaldo</td>\n",
       "      <td>Jenkins</td>\n",
       "      <td>52</td>\n",
       "      <td>Tulsa, OK MSA</td>\n",
       "      <td>2018-01-28</td>\n",
       "      <td>surf</td>\n",
       "      <td>NaN</td>\n",
       "    </tr>\n",
       "    <tr>\n",
       "      <th>4</th>\n",
       "      <td>1004</td>\n",
       "      <td>Leonila</td>\n",
       "      <td>Thompson</td>\n",
       "      <td>40</td>\n",
       "      <td>Seattle-Tacoma-Bellevue, WA MSA</td>\n",
       "      <td>2018-05-23</td>\n",
       "      <td>surf</td>\n",
       "      <td>NaN</td>\n",
       "    </tr>\n",
       "  </tbody>\n",
       "</table>\n",
       "</div>"
      ],
      "text/plain": [
       "   user_id first_name  last_name  age                                   city  \\\n",
       "0     1000   Anamaria      Bauer   45  Atlanta-Sandy Springs-Roswell, GA MSA   \n",
       "1     1001     Mickey  Wilkerson   28        Seattle-Tacoma-Bellevue, WA MSA   \n",
       "2     1002     Carlee    Hoffman   36   Las Vegas-Henderson-Paradise, NV MSA   \n",
       "3     1003   Reynaldo    Jenkins   52                          Tulsa, OK MSA   \n",
       "4     1004    Leonila   Thompson   40        Seattle-Tacoma-Bellevue, WA MSA   \n",
       "\n",
       "     reg_date      plan churn_date  \n",
       "0  2018-12-24  ultimate        NaN  \n",
       "1  2018-08-13      surf        NaN  \n",
       "2  2018-10-21      surf        NaN  \n",
       "3  2018-01-28      surf        NaN  \n",
       "4  2018-05-23      surf        NaN  "
      ]
     },
     "execution_count": 63,
     "metadata": {},
     "output_type": "execute_result"
    }
   ],
   "source": [
    "# Imprime una muestra de datos para usuarios\n",
    "users.head()\n"
   ]
  },
  {
   "cell_type": "markdown",
   "metadata": {
    "id": "dCZoUq4f0q06"
   },
   "source": [
    "Se observa que solo la columna churn_date posee valores nulos. Esto es debido al comportamiento propio de la variable, un valor nulo indica que la persona usaba el plan en ese momento.\n",
    "Los tipos de datos de las columnas son adecuados. El tipo de dato de la columna user_id es un numero, podria ser convertido a string dado que no guarda informacion numerica. Somos conscientes de la inforacion que contiene y guardarla como int ocupa menos espacio. Se decide por dejarla como int."
   ]
  },
  {
   "cell_type": "markdown",
   "metadata": {
    "id": "BX5FQh_I0q06"
   },
   "source": [
    "### Corregir los datos"
   ]
  },
  {
   "cell_type": "code",
   "execution_count": 64,
   "metadata": {
    "id": "yUqX-K0C0q07"
   },
   "outputs": [
    {
     "data": {
      "text/plain": [
       "0"
      ]
     },
     "execution_count": 64,
     "metadata": {},
     "output_type": "execute_result"
    }
   ],
   "source": [
    "# Esta tabla se encuentra en orden, nada por corregir\n",
    "sum(users.duplicated())"
   ]
  },
  {
   "cell_type": "markdown",
   "metadata": {
    "id": "o7MeKCid0q08"
   },
   "source": [
    "## Llamadas"
   ]
  },
  {
   "cell_type": "code",
   "execution_count": 66,
   "metadata": {
    "id": "6dDlnoDm0q08"
   },
   "outputs": [
    {
     "name": "stdout",
     "output_type": "stream",
     "text": [
      "<class 'pandas.core.frame.DataFrame'>\n",
      "RangeIndex: 137735 entries, 0 to 137734\n",
      "Data columns (total 4 columns):\n",
      " #   Column     Non-Null Count   Dtype  \n",
      "---  ------     --------------   -----  \n",
      " 0   id         137735 non-null  object \n",
      " 1   user_id    137735 non-null  int64  \n",
      " 2   call_date  137735 non-null  object \n",
      " 3   duration   137735 non-null  float64\n",
      "dtypes: float64(1), int64(1), object(2)\n",
      "memory usage: 4.2+ MB\n"
     ]
    }
   ],
   "source": [
    "# Imprime la información general/resumida sobre el DataFrame de las llamadas\n",
    "calls.info()\n"
   ]
  },
  {
   "cell_type": "code",
   "execution_count": 67,
   "metadata": {
    "id": "kuh1vlNB0q09"
   },
   "outputs": [
    {
     "data": {
      "text/html": [
       "<div>\n",
       "<style scoped>\n",
       "    .dataframe tbody tr th:only-of-type {\n",
       "        vertical-align: middle;\n",
       "    }\n",
       "\n",
       "    .dataframe tbody tr th {\n",
       "        vertical-align: top;\n",
       "    }\n",
       "\n",
       "    .dataframe thead th {\n",
       "        text-align: right;\n",
       "    }\n",
       "</style>\n",
       "<table border=\"1\" class=\"dataframe\">\n",
       "  <thead>\n",
       "    <tr style=\"text-align: right;\">\n",
       "      <th></th>\n",
       "      <th>id</th>\n",
       "      <th>user_id</th>\n",
       "      <th>call_date</th>\n",
       "      <th>duration</th>\n",
       "    </tr>\n",
       "  </thead>\n",
       "  <tbody>\n",
       "    <tr>\n",
       "      <th>0</th>\n",
       "      <td>1000_93</td>\n",
       "      <td>1000</td>\n",
       "      <td>2018-12-27</td>\n",
       "      <td>8.52</td>\n",
       "    </tr>\n",
       "    <tr>\n",
       "      <th>1</th>\n",
       "      <td>1000_145</td>\n",
       "      <td>1000</td>\n",
       "      <td>2018-12-27</td>\n",
       "      <td>13.66</td>\n",
       "    </tr>\n",
       "    <tr>\n",
       "      <th>2</th>\n",
       "      <td>1000_247</td>\n",
       "      <td>1000</td>\n",
       "      <td>2018-12-27</td>\n",
       "      <td>14.48</td>\n",
       "    </tr>\n",
       "    <tr>\n",
       "      <th>3</th>\n",
       "      <td>1000_309</td>\n",
       "      <td>1000</td>\n",
       "      <td>2018-12-28</td>\n",
       "      <td>5.76</td>\n",
       "    </tr>\n",
       "    <tr>\n",
       "      <th>4</th>\n",
       "      <td>1000_380</td>\n",
       "      <td>1000</td>\n",
       "      <td>2018-12-30</td>\n",
       "      <td>4.22</td>\n",
       "    </tr>\n",
       "  </tbody>\n",
       "</table>\n",
       "</div>"
      ],
      "text/plain": [
       "         id  user_id   call_date  duration\n",
       "0   1000_93     1000  2018-12-27      8.52\n",
       "1  1000_145     1000  2018-12-27     13.66\n",
       "2  1000_247     1000  2018-12-27     14.48\n",
       "3  1000_309     1000  2018-12-28      5.76\n",
       "4  1000_380     1000  2018-12-30      4.22"
      ]
     },
     "execution_count": 67,
     "metadata": {},
     "output_type": "execute_result"
    }
   ],
   "source": [
    "# Imprime una muestra de datos para las llamadas\n",
    "calls.head()\n"
   ]
  },
  {
   "cell_type": "markdown",
   "metadata": {
    "id": "DOAxYJSx0q09"
   },
   "source": [
    "Esta tabla no presenta datos nulos. Las columnas poseen el tipo de dato correcto (el caso de user_id fue explicado anteriormente), salvo por la columna call_date\n",
    "Para el analisis, el tipo de dato de la columna call_date sera convertido a tipo datetime para poder agrupar la informacion por periodos mensuales."
   ]
  },
  {
   "cell_type": "markdown",
   "metadata": {
    "id": "S7hzxmbX0q0-"
   },
   "source": [
    "### Corregir los datos"
   ]
  },
  {
   "cell_type": "code",
   "execution_count": 68,
   "metadata": {
    "id": "S2r8xA4f0q0-"
   },
   "outputs": [
    {
     "data": {
      "text/plain": [
       "0"
      ]
     },
     "execution_count": 68,
     "metadata": {},
     "output_type": "execute_result"
    }
   ],
   "source": [
    "# Esta tabla no presenta duplicados explicitos\n",
    "sum(calls.duplicated())"
   ]
  },
  {
   "cell_type": "code",
   "execution_count": 69,
   "metadata": {},
   "outputs": [
    {
     "name": "stdout",
     "output_type": "stream",
     "text": [
      "<class 'pandas.core.frame.DataFrame'>\n",
      "RangeIndex: 137735 entries, 0 to 137734\n",
      "Data columns (total 4 columns):\n",
      " #   Column     Non-Null Count   Dtype         \n",
      "---  ------     --------------   -----         \n",
      " 0   id         137735 non-null  object        \n",
      " 1   user_id    137735 non-null  int64         \n",
      " 2   call_date  137735 non-null  datetime64[ns]\n",
      " 3   duration   137735 non-null  float64       \n",
      "dtypes: datetime64[ns](1), float64(1), int64(1), object(1)\n",
      "memory usage: 4.2+ MB\n"
     ]
    }
   ],
   "source": [
    "# Se convierte el tipo de dato de la columna a datetime\n",
    "calls['call_date'] = pd.to_datetime(calls['call_date'], format='%Y-%m-%d')\n",
    "calls.info()"
   ]
  },
  {
   "cell_type": "markdown",
   "metadata": {
    "id": "KrMgTrlG0q0_"
   },
   "source": [
    "### Enriquecer los datos"
   ]
  },
  {
   "cell_type": "code",
   "execution_count": 70,
   "metadata": {
    "id": "iZ1avpA_0q0_"
   },
   "outputs": [
    {
     "data": {
      "text/html": [
       "<div>\n",
       "<style scoped>\n",
       "    .dataframe tbody tr th:only-of-type {\n",
       "        vertical-align: middle;\n",
       "    }\n",
       "\n",
       "    .dataframe tbody tr th {\n",
       "        vertical-align: top;\n",
       "    }\n",
       "\n",
       "    .dataframe thead th {\n",
       "        text-align: right;\n",
       "    }\n",
       "</style>\n",
       "<table border=\"1\" class=\"dataframe\">\n",
       "  <thead>\n",
       "    <tr style=\"text-align: right;\">\n",
       "      <th></th>\n",
       "      <th>id</th>\n",
       "      <th>user_id</th>\n",
       "      <th>call_date</th>\n",
       "      <th>duration</th>\n",
       "      <th>charged_duration</th>\n",
       "    </tr>\n",
       "  </thead>\n",
       "  <tbody>\n",
       "    <tr>\n",
       "      <th>0</th>\n",
       "      <td>1000_93</td>\n",
       "      <td>1000</td>\n",
       "      <td>2018-12-27</td>\n",
       "      <td>8.52</td>\n",
       "      <td>9</td>\n",
       "    </tr>\n",
       "    <tr>\n",
       "      <th>1</th>\n",
       "      <td>1000_145</td>\n",
       "      <td>1000</td>\n",
       "      <td>2018-12-27</td>\n",
       "      <td>13.66</td>\n",
       "      <td>14</td>\n",
       "    </tr>\n",
       "    <tr>\n",
       "      <th>2</th>\n",
       "      <td>1000_247</td>\n",
       "      <td>1000</td>\n",
       "      <td>2018-12-27</td>\n",
       "      <td>14.48</td>\n",
       "      <td>15</td>\n",
       "    </tr>\n",
       "    <tr>\n",
       "      <th>3</th>\n",
       "      <td>1000_309</td>\n",
       "      <td>1000</td>\n",
       "      <td>2018-12-28</td>\n",
       "      <td>5.76</td>\n",
       "      <td>6</td>\n",
       "    </tr>\n",
       "    <tr>\n",
       "      <th>4</th>\n",
       "      <td>1000_380</td>\n",
       "      <td>1000</td>\n",
       "      <td>2018-12-30</td>\n",
       "      <td>4.22</td>\n",
       "      <td>5</td>\n",
       "    </tr>\n",
       "    <tr>\n",
       "      <th>...</th>\n",
       "      <td>...</td>\n",
       "      <td>...</td>\n",
       "      <td>...</td>\n",
       "      <td>...</td>\n",
       "      <td>...</td>\n",
       "    </tr>\n",
       "    <tr>\n",
       "      <th>137730</th>\n",
       "      <td>1499_199</td>\n",
       "      <td>1499</td>\n",
       "      <td>2018-11-21</td>\n",
       "      <td>8.72</td>\n",
       "      <td>9</td>\n",
       "    </tr>\n",
       "    <tr>\n",
       "      <th>137731</th>\n",
       "      <td>1499_200</td>\n",
       "      <td>1499</td>\n",
       "      <td>2018-10-20</td>\n",
       "      <td>10.89</td>\n",
       "      <td>11</td>\n",
       "    </tr>\n",
       "    <tr>\n",
       "      <th>137732</th>\n",
       "      <td>1499_201</td>\n",
       "      <td>1499</td>\n",
       "      <td>2018-09-21</td>\n",
       "      <td>8.12</td>\n",
       "      <td>9</td>\n",
       "    </tr>\n",
       "    <tr>\n",
       "      <th>137733</th>\n",
       "      <td>1499_202</td>\n",
       "      <td>1499</td>\n",
       "      <td>2018-10-10</td>\n",
       "      <td>0.37</td>\n",
       "      <td>1</td>\n",
       "    </tr>\n",
       "    <tr>\n",
       "      <th>137734</th>\n",
       "      <td>1499_203</td>\n",
       "      <td>1499</td>\n",
       "      <td>2018-12-29</td>\n",
       "      <td>13.86</td>\n",
       "      <td>14</td>\n",
       "    </tr>\n",
       "  </tbody>\n",
       "</table>\n",
       "<p>137735 rows × 5 columns</p>\n",
       "</div>"
      ],
      "text/plain": [
       "              id  user_id  call_date  duration  charged_duration\n",
       "0        1000_93     1000 2018-12-27      8.52                 9\n",
       "1       1000_145     1000 2018-12-27     13.66                14\n",
       "2       1000_247     1000 2018-12-27     14.48                15\n",
       "3       1000_309     1000 2018-12-28      5.76                 6\n",
       "4       1000_380     1000 2018-12-30      4.22                 5\n",
       "...          ...      ...        ...       ...               ...\n",
       "137730  1499_199     1499 2018-11-21      8.72                 9\n",
       "137731  1499_200     1499 2018-10-20     10.89                11\n",
       "137732  1499_201     1499 2018-09-21      8.12                 9\n",
       "137733  1499_202     1499 2018-10-10      0.37                 1\n",
       "137734  1499_203     1499 2018-12-29     13.86                14\n",
       "\n",
       "[137735 rows x 5 columns]"
      ]
     },
     "execution_count": 70,
     "metadata": {},
     "output_type": "execute_result"
    }
   ],
   "source": [
    "# Dado que la empresa cobra las llamadas en minutos y redondeando hacia arriba\n",
    "# Seria conveniente tener una columna con dicha informacion\n",
    "calls['charged_duration'] = np.ceil(calls['duration']).astype('int')\n",
    "calls"
   ]
  },
  {
   "cell_type": "markdown",
   "metadata": {
    "id": "mOUZSi180q0_"
   },
   "source": [
    "## Mensajes"
   ]
  },
  {
   "cell_type": "code",
   "execution_count": 71,
   "metadata": {
    "id": "R-bYJpdV0q1A"
   },
   "outputs": [
    {
     "name": "stdout",
     "output_type": "stream",
     "text": [
      "<class 'pandas.core.frame.DataFrame'>\n",
      "RangeIndex: 76051 entries, 0 to 76050\n",
      "Data columns (total 3 columns):\n",
      " #   Column        Non-Null Count  Dtype \n",
      "---  ------        --------------  ----- \n",
      " 0   id            76051 non-null  object\n",
      " 1   user_id       76051 non-null  int64 \n",
      " 2   message_date  76051 non-null  object\n",
      "dtypes: int64(1), object(2)\n",
      "memory usage: 1.7+ MB\n"
     ]
    }
   ],
   "source": [
    "# Imprime la información general/resumida sobre el DataFrame de los mensajes\n",
    "messages.info()\n"
   ]
  },
  {
   "cell_type": "code",
   "execution_count": 72,
   "metadata": {
    "id": "mCEl2iGE0q1A"
   },
   "outputs": [
    {
     "data": {
      "text/html": [
       "<div>\n",
       "<style scoped>\n",
       "    .dataframe tbody tr th:only-of-type {\n",
       "        vertical-align: middle;\n",
       "    }\n",
       "\n",
       "    .dataframe tbody tr th {\n",
       "        vertical-align: top;\n",
       "    }\n",
       "\n",
       "    .dataframe thead th {\n",
       "        text-align: right;\n",
       "    }\n",
       "</style>\n",
       "<table border=\"1\" class=\"dataframe\">\n",
       "  <thead>\n",
       "    <tr style=\"text-align: right;\">\n",
       "      <th></th>\n",
       "      <th>id</th>\n",
       "      <th>user_id</th>\n",
       "      <th>message_date</th>\n",
       "    </tr>\n",
       "  </thead>\n",
       "  <tbody>\n",
       "    <tr>\n",
       "      <th>0</th>\n",
       "      <td>1000_125</td>\n",
       "      <td>1000</td>\n",
       "      <td>2018-12-27</td>\n",
       "    </tr>\n",
       "    <tr>\n",
       "      <th>1</th>\n",
       "      <td>1000_160</td>\n",
       "      <td>1000</td>\n",
       "      <td>2018-12-31</td>\n",
       "    </tr>\n",
       "    <tr>\n",
       "      <th>2</th>\n",
       "      <td>1000_223</td>\n",
       "      <td>1000</td>\n",
       "      <td>2018-12-31</td>\n",
       "    </tr>\n",
       "    <tr>\n",
       "      <th>3</th>\n",
       "      <td>1000_251</td>\n",
       "      <td>1000</td>\n",
       "      <td>2018-12-27</td>\n",
       "    </tr>\n",
       "    <tr>\n",
       "      <th>4</th>\n",
       "      <td>1000_255</td>\n",
       "      <td>1000</td>\n",
       "      <td>2018-12-26</td>\n",
       "    </tr>\n",
       "  </tbody>\n",
       "</table>\n",
       "</div>"
      ],
      "text/plain": [
       "         id  user_id message_date\n",
       "0  1000_125     1000   2018-12-27\n",
       "1  1000_160     1000   2018-12-31\n",
       "2  1000_223     1000   2018-12-31\n",
       "3  1000_251     1000   2018-12-27\n",
       "4  1000_255     1000   2018-12-26"
      ]
     },
     "execution_count": 72,
     "metadata": {},
     "output_type": "execute_result"
    }
   ],
   "source": [
    "# Imprime una muestra de datos para los mensajes\n",
    "messages.head()\n"
   ]
  },
  {
   "cell_type": "markdown",
   "metadata": {
    "id": "04xDj7KH0q1A"
   },
   "source": [
    "Esta tabla no presenta datos nulos. Los tipos de dato son los adecuados (user_id ya fue explicado), salvo message_date que debe convertirse a tipo datetime para hacer analisis con las fechas."
   ]
  },
  {
   "cell_type": "markdown",
   "metadata": {
    "id": "Sprfak900q1B"
   },
   "source": [
    "### Corregir los datos"
   ]
  },
  {
   "cell_type": "code",
   "execution_count": 73,
   "metadata": {
    "id": "vsllvkoa0q1B"
   },
   "outputs": [
    {
     "data": {
      "text/plain": [
       "0"
      ]
     },
     "execution_count": 73,
     "metadata": {},
     "output_type": "execute_result"
    }
   ],
   "source": [
    "# Esta tabla no cuenta con duplicados explicitos\n",
    "sum(messages.duplicated())"
   ]
  },
  {
   "cell_type": "code",
   "execution_count": 74,
   "metadata": {},
   "outputs": [
    {
     "name": "stdout",
     "output_type": "stream",
     "text": [
      "<class 'pandas.core.frame.DataFrame'>\n",
      "RangeIndex: 76051 entries, 0 to 76050\n",
      "Data columns (total 3 columns):\n",
      " #   Column        Non-Null Count  Dtype         \n",
      "---  ------        --------------  -----         \n",
      " 0   id            76051 non-null  object        \n",
      " 1   user_id       76051 non-null  int64         \n",
      " 2   message_date  76051 non-null  datetime64[ns]\n",
      "dtypes: datetime64[ns](1), int64(1), object(1)\n",
      "memory usage: 1.7+ MB\n"
     ]
    }
   ],
   "source": [
    "# Se convierte el tipo de dato de la columna a datetime\n",
    "messages['message_date'] = pd.to_datetime(messages['message_date'], format='%Y-%m-%d')\n",
    "messages.info()"
   ]
  },
  {
   "cell_type": "markdown",
   "metadata": {
    "id": "bStkaxn40q1C"
   },
   "source": [
    "## Internet"
   ]
  },
  {
   "cell_type": "code",
   "execution_count": 76,
   "metadata": {
    "id": "e-Uz5qyn0q1C"
   },
   "outputs": [
    {
     "name": "stdout",
     "output_type": "stream",
     "text": [
      "<class 'pandas.core.frame.DataFrame'>\n",
      "RangeIndex: 104825 entries, 0 to 104824\n",
      "Data columns (total 4 columns):\n",
      " #   Column        Non-Null Count   Dtype  \n",
      "---  ------        --------------   -----  \n",
      " 0   id            104825 non-null  object \n",
      " 1   user_id       104825 non-null  int64  \n",
      " 2   session_date  104825 non-null  object \n",
      " 3   mb_used       104825 non-null  float64\n",
      "dtypes: float64(1), int64(1), object(2)\n",
      "memory usage: 3.2+ MB\n"
     ]
    }
   ],
   "source": [
    "# Imprime la información general/resumida sobre el DataFrame de internet\n",
    "internet.info()\n"
   ]
  },
  {
   "cell_type": "code",
   "execution_count": 77,
   "metadata": {
    "id": "9r3x_XLw0q1C"
   },
   "outputs": [
    {
     "data": {
      "text/html": [
       "<div>\n",
       "<style scoped>\n",
       "    .dataframe tbody tr th:only-of-type {\n",
       "        vertical-align: middle;\n",
       "    }\n",
       "\n",
       "    .dataframe tbody tr th {\n",
       "        vertical-align: top;\n",
       "    }\n",
       "\n",
       "    .dataframe thead th {\n",
       "        text-align: right;\n",
       "    }\n",
       "</style>\n",
       "<table border=\"1\" class=\"dataframe\">\n",
       "  <thead>\n",
       "    <tr style=\"text-align: right;\">\n",
       "      <th></th>\n",
       "      <th>id</th>\n",
       "      <th>user_id</th>\n",
       "      <th>session_date</th>\n",
       "      <th>mb_used</th>\n",
       "    </tr>\n",
       "  </thead>\n",
       "  <tbody>\n",
       "    <tr>\n",
       "      <th>0</th>\n",
       "      <td>1000_13</td>\n",
       "      <td>1000</td>\n",
       "      <td>2018-12-29</td>\n",
       "      <td>89.86</td>\n",
       "    </tr>\n",
       "    <tr>\n",
       "      <th>1</th>\n",
       "      <td>1000_204</td>\n",
       "      <td>1000</td>\n",
       "      <td>2018-12-31</td>\n",
       "      <td>0.00</td>\n",
       "    </tr>\n",
       "    <tr>\n",
       "      <th>2</th>\n",
       "      <td>1000_379</td>\n",
       "      <td>1000</td>\n",
       "      <td>2018-12-28</td>\n",
       "      <td>660.40</td>\n",
       "    </tr>\n",
       "    <tr>\n",
       "      <th>3</th>\n",
       "      <td>1000_413</td>\n",
       "      <td>1000</td>\n",
       "      <td>2018-12-26</td>\n",
       "      <td>270.99</td>\n",
       "    </tr>\n",
       "    <tr>\n",
       "      <th>4</th>\n",
       "      <td>1000_442</td>\n",
       "      <td>1000</td>\n",
       "      <td>2018-12-27</td>\n",
       "      <td>880.22</td>\n",
       "    </tr>\n",
       "  </tbody>\n",
       "</table>\n",
       "</div>"
      ],
      "text/plain": [
       "         id  user_id session_date  mb_used\n",
       "0   1000_13     1000   2018-12-29    89.86\n",
       "1  1000_204     1000   2018-12-31     0.00\n",
       "2  1000_379     1000   2018-12-28   660.40\n",
       "3  1000_413     1000   2018-12-26   270.99\n",
       "4  1000_442     1000   2018-12-27   880.22"
      ]
     },
     "execution_count": 77,
     "metadata": {},
     "output_type": "execute_result"
    }
   ],
   "source": [
    "# Imprime una muestra de datos para el tráfico de internet\n",
    "internet.head()\n"
   ]
  },
  {
   "cell_type": "markdown",
   "metadata": {
    "id": "EzOG5ik30q1D"
   },
   "source": [
    "Esta tabla no presenta datos nulos. Los tipos de dato son los correctos (user_id ya explicado), savlo session_date que debe ser convertido a datetime para procesar la informacion en la columna."
   ]
  },
  {
   "cell_type": "markdown",
   "metadata": {
    "id": "yA0tkPFg0q1D"
   },
   "source": [
    "### Corregir los datos"
   ]
  },
  {
   "cell_type": "code",
   "execution_count": 78,
   "metadata": {
    "id": "zVeanzdd0q1E"
   },
   "outputs": [
    {
     "data": {
      "text/plain": [
       "0"
      ]
     },
     "execution_count": 78,
     "metadata": {},
     "output_type": "execute_result"
    }
   ],
   "source": [
    "# Esta tabla no cuenta con duplicados explicitos\n",
    "sum(internet.duplicated())"
   ]
  },
  {
   "cell_type": "code",
   "execution_count": 79,
   "metadata": {},
   "outputs": [
    {
     "name": "stdout",
     "output_type": "stream",
     "text": [
      "<class 'pandas.core.frame.DataFrame'>\n",
      "RangeIndex: 104825 entries, 0 to 104824\n",
      "Data columns (total 4 columns):\n",
      " #   Column        Non-Null Count   Dtype         \n",
      "---  ------        --------------   -----         \n",
      " 0   id            104825 non-null  object        \n",
      " 1   user_id       104825 non-null  int64         \n",
      " 2   session_date  104825 non-null  datetime64[ns]\n",
      " 3   mb_used       104825 non-null  float64       \n",
      "dtypes: datetime64[ns](1), float64(1), int64(1), object(1)\n",
      "memory usage: 3.2+ MB\n"
     ]
    }
   ],
   "source": [
    "# Se convierte el tipo de dato de la columna a datetime\n",
    "internet['session_date'] = pd.to_datetime(internet['session_date'], format='%Y-%m-%d')\n",
    "internet.info()"
   ]
  },
  {
   "cell_type": "markdown",
   "metadata": {
    "id": "3UA2cqIW0q1E"
   },
   "source": [
    "## Estudiar las condiciones de las tarifas"
   ]
  },
  {
   "cell_type": "code",
   "execution_count": 81,
   "metadata": {
    "id": "i409op8p0q1F"
   },
   "outputs": [
    {
     "data": {
      "text/html": [
       "<div>\n",
       "<style scoped>\n",
       "    .dataframe tbody tr th:only-of-type {\n",
       "        vertical-align: middle;\n",
       "    }\n",
       "\n",
       "    .dataframe tbody tr th {\n",
       "        vertical-align: top;\n",
       "    }\n",
       "\n",
       "    .dataframe thead th {\n",
       "        text-align: right;\n",
       "    }\n",
       "</style>\n",
       "<table border=\"1\" class=\"dataframe\">\n",
       "  <thead>\n",
       "    <tr style=\"text-align: right;\">\n",
       "      <th></th>\n",
       "      <th>messages_included</th>\n",
       "      <th>mb_per_month_included</th>\n",
       "      <th>minutes_included</th>\n",
       "      <th>usd_monthly_pay</th>\n",
       "      <th>usd_per_gb</th>\n",
       "      <th>usd_per_message</th>\n",
       "      <th>usd_per_minute</th>\n",
       "      <th>plan_name</th>\n",
       "    </tr>\n",
       "  </thead>\n",
       "  <tbody>\n",
       "    <tr>\n",
       "      <th>0</th>\n",
       "      <td>50</td>\n",
       "      <td>15360</td>\n",
       "      <td>500</td>\n",
       "      <td>20</td>\n",
       "      <td>10</td>\n",
       "      <td>0.03</td>\n",
       "      <td>0.03</td>\n",
       "      <td>surf</td>\n",
       "    </tr>\n",
       "    <tr>\n",
       "      <th>1</th>\n",
       "      <td>1000</td>\n",
       "      <td>30720</td>\n",
       "      <td>3000</td>\n",
       "      <td>70</td>\n",
       "      <td>7</td>\n",
       "      <td>0.01</td>\n",
       "      <td>0.01</td>\n",
       "      <td>ultimate</td>\n",
       "    </tr>\n",
       "  </tbody>\n",
       "</table>\n",
       "</div>"
      ],
      "text/plain": [
       "   messages_included  mb_per_month_included  minutes_included  \\\n",
       "0                 50                  15360               500   \n",
       "1               1000                  30720              3000   \n",
       "\n",
       "   usd_monthly_pay  usd_per_gb  usd_per_message  usd_per_minute plan_name  \n",
       "0               20          10             0.03            0.03      surf  \n",
       "1               70           7             0.01            0.01  ultimate  "
      ]
     },
     "execution_count": 81,
     "metadata": {},
     "output_type": "execute_result"
    }
   ],
   "source": [
    "# Imprime las condiciones de la tarifa y asegúrate de que te quedan claras\n",
    "plans\n"
   ]
  },
  {
   "cell_type": "markdown",
   "metadata": {
    "id": "hMR1tP5d0q1F"
   },
   "source": [
    "## Agregar datos por usuario"
   ]
  },
  {
   "cell_type": "code",
   "execution_count": 82,
   "metadata": {
    "id": "A332cedB0q1G"
   },
   "outputs": [
    {
     "data": {
      "text/html": [
       "<div>\n",
       "<style scoped>\n",
       "    .dataframe tbody tr th:only-of-type {\n",
       "        vertical-align: middle;\n",
       "    }\n",
       "\n",
       "    .dataframe tbody tr th {\n",
       "        vertical-align: top;\n",
       "    }\n",
       "\n",
       "    .dataframe thead th {\n",
       "        text-align: right;\n",
       "    }\n",
       "</style>\n",
       "<table border=\"1\" class=\"dataframe\">\n",
       "  <thead>\n",
       "    <tr style=\"text-align: right;\">\n",
       "      <th></th>\n",
       "      <th></th>\n",
       "      <th>calls</th>\n",
       "    </tr>\n",
       "    <tr>\n",
       "      <th>user_id</th>\n",
       "      <th>month</th>\n",
       "      <th></th>\n",
       "    </tr>\n",
       "  </thead>\n",
       "  <tbody>\n",
       "    <tr>\n",
       "      <th>1000</th>\n",
       "      <th>12</th>\n",
       "      <td>16</td>\n",
       "    </tr>\n",
       "    <tr>\n",
       "      <th rowspan=\"4\" valign=\"top\">1001</th>\n",
       "      <th>8</th>\n",
       "      <td>27</td>\n",
       "    </tr>\n",
       "    <tr>\n",
       "      <th>9</th>\n",
       "      <td>49</td>\n",
       "    </tr>\n",
       "    <tr>\n",
       "      <th>10</th>\n",
       "      <td>65</td>\n",
       "    </tr>\n",
       "    <tr>\n",
       "      <th>11</th>\n",
       "      <td>64</td>\n",
       "    </tr>\n",
       "    <tr>\n",
       "      <th>...</th>\n",
       "      <th>...</th>\n",
       "      <td>...</td>\n",
       "    </tr>\n",
       "    <tr>\n",
       "      <th>1498</th>\n",
       "      <th>12</th>\n",
       "      <td>39</td>\n",
       "    </tr>\n",
       "    <tr>\n",
       "      <th rowspan=\"4\" valign=\"top\">1499</th>\n",
       "      <th>9</th>\n",
       "      <td>41</td>\n",
       "    </tr>\n",
       "    <tr>\n",
       "      <th>10</th>\n",
       "      <td>53</td>\n",
       "    </tr>\n",
       "    <tr>\n",
       "      <th>11</th>\n",
       "      <td>45</td>\n",
       "    </tr>\n",
       "    <tr>\n",
       "      <th>12</th>\n",
       "      <td>65</td>\n",
       "    </tr>\n",
       "  </tbody>\n",
       "</table>\n",
       "<p>2258 rows × 1 columns</p>\n",
       "</div>"
      ],
      "text/plain": [
       "               calls\n",
       "user_id month       \n",
       "1000    12        16\n",
       "1001    8         27\n",
       "        9         49\n",
       "        10        65\n",
       "        11        64\n",
       "...              ...\n",
       "1498    12        39\n",
       "1499    9         41\n",
       "        10        53\n",
       "        11        45\n",
       "        12        65\n",
       "\n",
       "[2258 rows x 1 columns]"
      ]
     },
     "execution_count": 82,
     "metadata": {},
     "output_type": "execute_result"
    }
   ],
   "source": [
    "# Calcula el número de llamadas hechas por cada usuario al mes. Guarda el resultado.\n",
    "# Se agrupan los datos por usuario y por mes y se cuenta la cantidad de isntancias\n",
    "calls_user_month = calls.groupby(by=['user_id', calls['call_date'].dt.month])['id'].count()\n",
    "# Se convierte a un df para mejor manejo posterior\n",
    "calls_user_month = calls_user_month.rename('calls').to_frame()\n",
    "# Se renombra el indice a month para ser mas descriptivo\n",
    "calls_user_month.index.rename('month', level=1, inplace=True)\n",
    "calls_user_month"
   ]
  },
  {
   "cell_type": "code",
   "execution_count": 83,
   "metadata": {
    "id": "aw2cmuql0q1G"
   },
   "outputs": [
    {
     "data": {
      "text/html": [
       "<div>\n",
       "<style scoped>\n",
       "    .dataframe tbody tr th:only-of-type {\n",
       "        vertical-align: middle;\n",
       "    }\n",
       "\n",
       "    .dataframe tbody tr th {\n",
       "        vertical-align: top;\n",
       "    }\n",
       "\n",
       "    .dataframe thead th {\n",
       "        text-align: right;\n",
       "    }\n",
       "</style>\n",
       "<table border=\"1\" class=\"dataframe\">\n",
       "  <thead>\n",
       "    <tr style=\"text-align: right;\">\n",
       "      <th></th>\n",
       "      <th></th>\n",
       "      <th>charged_duration</th>\n",
       "    </tr>\n",
       "    <tr>\n",
       "      <th>user_id</th>\n",
       "      <th>month</th>\n",
       "      <th></th>\n",
       "    </tr>\n",
       "  </thead>\n",
       "  <tbody>\n",
       "    <tr>\n",
       "      <th>1000</th>\n",
       "      <th>12</th>\n",
       "      <td>124</td>\n",
       "    </tr>\n",
       "    <tr>\n",
       "      <th rowspan=\"4\" valign=\"top\">1001</th>\n",
       "      <th>8</th>\n",
       "      <td>182</td>\n",
       "    </tr>\n",
       "    <tr>\n",
       "      <th>9</th>\n",
       "      <td>315</td>\n",
       "    </tr>\n",
       "    <tr>\n",
       "      <th>10</th>\n",
       "      <td>393</td>\n",
       "    </tr>\n",
       "    <tr>\n",
       "      <th>11</th>\n",
       "      <td>426</td>\n",
       "    </tr>\n",
       "    <tr>\n",
       "      <th>...</th>\n",
       "      <th>...</th>\n",
       "      <td>...</td>\n",
       "    </tr>\n",
       "    <tr>\n",
       "      <th>1498</th>\n",
       "      <th>12</th>\n",
       "      <td>339</td>\n",
       "    </tr>\n",
       "    <tr>\n",
       "      <th rowspan=\"4\" valign=\"top\">1499</th>\n",
       "      <th>9</th>\n",
       "      <td>346</td>\n",
       "    </tr>\n",
       "    <tr>\n",
       "      <th>10</th>\n",
       "      <td>385</td>\n",
       "    </tr>\n",
       "    <tr>\n",
       "      <th>11</th>\n",
       "      <td>308</td>\n",
       "    </tr>\n",
       "    <tr>\n",
       "      <th>12</th>\n",
       "      <td>496</td>\n",
       "    </tr>\n",
       "  </tbody>\n",
       "</table>\n",
       "<p>2258 rows × 1 columns</p>\n",
       "</div>"
      ],
      "text/plain": [
       "               charged_duration\n",
       "user_id month                  \n",
       "1000    12                  124\n",
       "1001    8                   182\n",
       "        9                   315\n",
       "        10                  393\n",
       "        11                  426\n",
       "...                         ...\n",
       "1498    12                  339\n",
       "1499    9                   346\n",
       "        10                  385\n",
       "        11                  308\n",
       "        12                  496\n",
       "\n",
       "[2258 rows x 1 columns]"
      ]
     },
     "execution_count": 83,
     "metadata": {},
     "output_type": "execute_result"
    }
   ],
   "source": [
    "# Calcula la cantidad de minutos usados por cada usuario al mes. Guarda el resultado.\n",
    "# Se agrupan los datos por usuario y por mes y se suman los minutos\n",
    "calls_minutes_user_month = calls.groupby(by=['user_id', calls['call_date'].dt.month])['charged_duration'].sum()\n",
    "# Se convierte a df para mejor manejo posterior\n",
    "calls_minutes_user_month = calls_minutes_user_month.to_frame()\n",
    "# Se renombra el indice a month para ser mas descriptivo\n",
    "calls_minutes_user_month.index.rename('month', level=1, inplace=True)\n",
    "calls_minutes_user_month"
   ]
  },
  {
   "cell_type": "code",
   "execution_count": 84,
   "metadata": {
    "id": "CcQvNHn60q1G"
   },
   "outputs": [
    {
     "data": {
      "text/html": [
       "<div>\n",
       "<style scoped>\n",
       "    .dataframe tbody tr th:only-of-type {\n",
       "        vertical-align: middle;\n",
       "    }\n",
       "\n",
       "    .dataframe tbody tr th {\n",
       "        vertical-align: top;\n",
       "    }\n",
       "\n",
       "    .dataframe thead th {\n",
       "        text-align: right;\n",
       "    }\n",
       "</style>\n",
       "<table border=\"1\" class=\"dataframe\">\n",
       "  <thead>\n",
       "    <tr style=\"text-align: right;\">\n",
       "      <th></th>\n",
       "      <th></th>\n",
       "      <th>messages</th>\n",
       "    </tr>\n",
       "    <tr>\n",
       "      <th>user_id</th>\n",
       "      <th>month</th>\n",
       "      <th></th>\n",
       "    </tr>\n",
       "  </thead>\n",
       "  <tbody>\n",
       "    <tr>\n",
       "      <th>1000</th>\n",
       "      <th>12</th>\n",
       "      <td>11</td>\n",
       "    </tr>\n",
       "    <tr>\n",
       "      <th rowspan=\"4\" valign=\"top\">1001</th>\n",
       "      <th>8</th>\n",
       "      <td>21</td>\n",
       "    </tr>\n",
       "    <tr>\n",
       "      <th>9</th>\n",
       "      <td>39</td>\n",
       "    </tr>\n",
       "    <tr>\n",
       "      <th>10</th>\n",
       "      <td>52</td>\n",
       "    </tr>\n",
       "    <tr>\n",
       "      <th>11</th>\n",
       "      <td>48</td>\n",
       "    </tr>\n",
       "    <tr>\n",
       "      <th>...</th>\n",
       "      <th>...</th>\n",
       "      <td>...</td>\n",
       "    </tr>\n",
       "    <tr>\n",
       "      <th rowspan=\"5\" valign=\"top\">1497</th>\n",
       "      <th>8</th>\n",
       "      <td>4</td>\n",
       "    </tr>\n",
       "    <tr>\n",
       "      <th>9</th>\n",
       "      <td>4</td>\n",
       "    </tr>\n",
       "    <tr>\n",
       "      <th>10</th>\n",
       "      <td>4</td>\n",
       "    </tr>\n",
       "    <tr>\n",
       "      <th>11</th>\n",
       "      <td>10</td>\n",
       "    </tr>\n",
       "    <tr>\n",
       "      <th>12</th>\n",
       "      <td>5</td>\n",
       "    </tr>\n",
       "  </tbody>\n",
       "</table>\n",
       "<p>2950 rows × 1 columns</p>\n",
       "</div>"
      ],
      "text/plain": [
       "               messages\n",
       "user_id month          \n",
       "1000    12           11\n",
       "1001    8            21\n",
       "        9            39\n",
       "        10           52\n",
       "        11           48\n",
       "...                 ...\n",
       "1497    8             4\n",
       "        9             4\n",
       "        10            4\n",
       "        11           10\n",
       "        12            5\n",
       "\n",
       "[2950 rows x 1 columns]"
      ]
     },
     "execution_count": 84,
     "metadata": {},
     "output_type": "execute_result"
    }
   ],
   "source": [
    "# Calcula el número de mensajes enviados por cada usuario al mes. Guarda el resultado.\n",
    "# Se agrupa por usuario y por mes y se cuentan las instancias\n",
    "messages_user_month = messages.groupby(by=['user_id', calls['call_date'].dt.month])['id'].count()\n",
    "# Se tranforma a df para mejor manejo posterior\n",
    "messages_user_month = messages_user_month.rename('messages').to_frame()\n",
    "# Se renombra el indice a month para ser mas descriptivo\n",
    "messages_user_month.index.rename('month', level=1, inplace=True)\n",
    "messages_user_month"
   ]
  },
  {
   "cell_type": "code",
   "execution_count": 85,
   "metadata": {
    "id": "H1AqN2eG0q1H"
   },
   "outputs": [
    {
     "data": {
      "text/html": [
       "<div>\n",
       "<style scoped>\n",
       "    .dataframe tbody tr th:only-of-type {\n",
       "        vertical-align: middle;\n",
       "    }\n",
       "\n",
       "    .dataframe tbody tr th {\n",
       "        vertical-align: top;\n",
       "    }\n",
       "\n",
       "    .dataframe thead th {\n",
       "        text-align: right;\n",
       "    }\n",
       "</style>\n",
       "<table border=\"1\" class=\"dataframe\">\n",
       "  <thead>\n",
       "    <tr style=\"text-align: right;\">\n",
       "      <th></th>\n",
       "      <th></th>\n",
       "      <th>mb_used</th>\n",
       "    </tr>\n",
       "    <tr>\n",
       "      <th>user_id</th>\n",
       "      <th>month</th>\n",
       "      <th></th>\n",
       "    </tr>\n",
       "  </thead>\n",
       "  <tbody>\n",
       "    <tr>\n",
       "      <th>1000</th>\n",
       "      <th>12</th>\n",
       "      <td>1901.47</td>\n",
       "    </tr>\n",
       "    <tr>\n",
       "      <th rowspan=\"4\" valign=\"top\">1001</th>\n",
       "      <th>8</th>\n",
       "      <td>7131.50</td>\n",
       "    </tr>\n",
       "    <tr>\n",
       "      <th>9</th>\n",
       "      <td>13311.04</td>\n",
       "    </tr>\n",
       "    <tr>\n",
       "      <th>10</th>\n",
       "      <td>20406.45</td>\n",
       "    </tr>\n",
       "    <tr>\n",
       "      <th>11</th>\n",
       "      <td>20873.07</td>\n",
       "    </tr>\n",
       "    <tr>\n",
       "      <th>...</th>\n",
       "      <th>...</th>\n",
       "      <td>...</td>\n",
       "    </tr>\n",
       "    <tr>\n",
       "      <th rowspan=\"5\" valign=\"top\">1499</th>\n",
       "      <th>8</th>\n",
       "      <td>9488.37</td>\n",
       "    </tr>\n",
       "    <tr>\n",
       "      <th>9</th>\n",
       "      <td>9542.05</td>\n",
       "    </tr>\n",
       "    <tr>\n",
       "      <th>10</th>\n",
       "      <td>5879.22</td>\n",
       "    </tr>\n",
       "    <tr>\n",
       "      <th>11</th>\n",
       "      <td>10283.54</td>\n",
       "    </tr>\n",
       "    <tr>\n",
       "      <th>12</th>\n",
       "      <td>14310.33</td>\n",
       "    </tr>\n",
       "  </tbody>\n",
       "</table>\n",
       "<p>3611 rows × 1 columns</p>\n",
       "</div>"
      ],
      "text/plain": [
       "                mb_used\n",
       "user_id month          \n",
       "1000    12      1901.47\n",
       "1001    8       7131.50\n",
       "        9      13311.04\n",
       "        10     20406.45\n",
       "        11     20873.07\n",
       "...                 ...\n",
       "1499    8       9488.37\n",
       "        9       9542.05\n",
       "        10      5879.22\n",
       "        11     10283.54\n",
       "        12     14310.33\n",
       "\n",
       "[3611 rows x 1 columns]"
      ]
     },
     "execution_count": 85,
     "metadata": {},
     "output_type": "execute_result"
    }
   ],
   "source": [
    "# Calcula el volumen del tráfico de Internet usado por cada usuario al mes. Guarda el resultado.\n",
    "# Se agrupa por usuario y por mes y se suman los mbs\n",
    "internet_MB_user_month = internet.groupby(by=['user_id', calls['call_date'].dt.month])['mb_used'].sum()\n",
    "# Se convierte a df para mejor manejo posterior\n",
    "internet_MB_user_month = internet_MB_user_month.to_frame()\n",
    "# Se renombra el indice a month para ser mas descriptivo\n",
    "internet_MB_user_month.index.rename('month', level=1, inplace=True)\n",
    "internet_MB_user_month"
   ]
  },
  {
   "cell_type": "code",
   "execution_count": 86,
   "metadata": {
    "id": "FW99ykyf0q1H"
   },
   "outputs": [
    {
     "data": {
      "text/html": [
       "<div>\n",
       "<style scoped>\n",
       "    .dataframe tbody tr th:only-of-type {\n",
       "        vertical-align: middle;\n",
       "    }\n",
       "\n",
       "    .dataframe tbody tr th {\n",
       "        vertical-align: top;\n",
       "    }\n",
       "\n",
       "    .dataframe thead th {\n",
       "        text-align: right;\n",
       "    }\n",
       "</style>\n",
       "<table border=\"1\" class=\"dataframe\">\n",
       "  <thead>\n",
       "    <tr style=\"text-align: right;\">\n",
       "      <th></th>\n",
       "      <th></th>\n",
       "      <th>calls</th>\n",
       "      <th>charged_duration</th>\n",
       "      <th>messages</th>\n",
       "      <th>mb_used</th>\n",
       "    </tr>\n",
       "    <tr>\n",
       "      <th>user_id</th>\n",
       "      <th>month</th>\n",
       "      <th></th>\n",
       "      <th></th>\n",
       "      <th></th>\n",
       "      <th></th>\n",
       "    </tr>\n",
       "  </thead>\n",
       "  <tbody>\n",
       "    <tr>\n",
       "      <th>1000</th>\n",
       "      <th>12</th>\n",
       "      <td>16.0</td>\n",
       "      <td>124.0</td>\n",
       "      <td>11.0</td>\n",
       "      <td>1901.47</td>\n",
       "    </tr>\n",
       "    <tr>\n",
       "      <th rowspan=\"4\" valign=\"top\">1001</th>\n",
       "      <th>8</th>\n",
       "      <td>27.0</td>\n",
       "      <td>182.0</td>\n",
       "      <td>21.0</td>\n",
       "      <td>7131.50</td>\n",
       "    </tr>\n",
       "    <tr>\n",
       "      <th>9</th>\n",
       "      <td>49.0</td>\n",
       "      <td>315.0</td>\n",
       "      <td>39.0</td>\n",
       "      <td>13311.04</td>\n",
       "    </tr>\n",
       "    <tr>\n",
       "      <th>10</th>\n",
       "      <td>65.0</td>\n",
       "      <td>393.0</td>\n",
       "      <td>52.0</td>\n",
       "      <td>20406.45</td>\n",
       "    </tr>\n",
       "    <tr>\n",
       "      <th>11</th>\n",
       "      <td>64.0</td>\n",
       "      <td>426.0</td>\n",
       "      <td>48.0</td>\n",
       "      <td>20873.07</td>\n",
       "    </tr>\n",
       "    <tr>\n",
       "      <th>...</th>\n",
       "      <th>...</th>\n",
       "      <td>...</td>\n",
       "      <td>...</td>\n",
       "      <td>...</td>\n",
       "      <td>...</td>\n",
       "    </tr>\n",
       "    <tr>\n",
       "      <th rowspan=\"5\" valign=\"top\">1499</th>\n",
       "      <th>8</th>\n",
       "      <td>NaN</td>\n",
       "      <td>NaN</td>\n",
       "      <td>NaN</td>\n",
       "      <td>9488.37</td>\n",
       "    </tr>\n",
       "    <tr>\n",
       "      <th>9</th>\n",
       "      <td>41.0</td>\n",
       "      <td>346.0</td>\n",
       "      <td>NaN</td>\n",
       "      <td>9542.05</td>\n",
       "    </tr>\n",
       "    <tr>\n",
       "      <th>10</th>\n",
       "      <td>53.0</td>\n",
       "      <td>385.0</td>\n",
       "      <td>NaN</td>\n",
       "      <td>5879.22</td>\n",
       "    </tr>\n",
       "    <tr>\n",
       "      <th>11</th>\n",
       "      <td>45.0</td>\n",
       "      <td>308.0</td>\n",
       "      <td>NaN</td>\n",
       "      <td>10283.54</td>\n",
       "    </tr>\n",
       "    <tr>\n",
       "      <th>12</th>\n",
       "      <td>65.0</td>\n",
       "      <td>496.0</td>\n",
       "      <td>NaN</td>\n",
       "      <td>14310.33</td>\n",
       "    </tr>\n",
       "  </tbody>\n",
       "</table>\n",
       "<p>4310 rows × 4 columns</p>\n",
       "</div>"
      ],
      "text/plain": [
       "               calls  charged_duration  messages   mb_used\n",
       "user_id month                                             \n",
       "1000    12      16.0             124.0      11.0   1901.47\n",
       "1001    8       27.0             182.0      21.0   7131.50\n",
       "        9       49.0             315.0      39.0  13311.04\n",
       "        10      65.0             393.0      52.0  20406.45\n",
       "        11      64.0             426.0      48.0  20873.07\n",
       "...              ...               ...       ...       ...\n",
       "1499    8        NaN               NaN       NaN   9488.37\n",
       "        9       41.0             346.0       NaN   9542.05\n",
       "        10      53.0             385.0       NaN   5879.22\n",
       "        11      45.0             308.0       NaN  10283.54\n",
       "        12      65.0             496.0       NaN  14310.33\n",
       "\n",
       "[4310 rows x 4 columns]"
      ]
     },
     "execution_count": 86,
     "metadata": {},
     "output_type": "execute_result"
    }
   ],
   "source": [
    "# Fusiona los datos de llamadas, minutos, mensajes e Internet con base en user_id y month\n",
    "# Se usa el metodo merge() para la fusion en user_id y month. Concat no hubiera funcionado ya que los indices de las tablas no son los mismmos\n",
    "calls_duration_messages_mb_users_month = calls_user_month.merge(calls_minutes_user_month, on=['user_id', 'month']).merge(\n",
    "messages_user_month, on=['user_id', 'month'], how='outer').merge(\n",
    "    internet_MB_user_month, on=['user_id', 'month'], how='outer').sort_index()\n",
    "calls_duration_messages_mb_users_month"
   ]
  },
  {
   "cell_type": "code",
   "execution_count": 87,
   "metadata": {
    "id": "0dNOXHag0q1H"
   },
   "outputs": [
    {
     "data": {
      "text/html": [
       "<div>\n",
       "<style scoped>\n",
       "    .dataframe tbody tr th:only-of-type {\n",
       "        vertical-align: middle;\n",
       "    }\n",
       "\n",
       "    .dataframe tbody tr th {\n",
       "        vertical-align: top;\n",
       "    }\n",
       "\n",
       "    .dataframe thead th {\n",
       "        text-align: right;\n",
       "    }\n",
       "</style>\n",
       "<table border=\"1\" class=\"dataframe\">\n",
       "  <thead>\n",
       "    <tr style=\"text-align: right;\">\n",
       "      <th></th>\n",
       "      <th>first_name</th>\n",
       "      <th>last_name</th>\n",
       "      <th>age</th>\n",
       "      <th>city</th>\n",
       "      <th>reg_date</th>\n",
       "      <th>plan</th>\n",
       "      <th>churn_date</th>\n",
       "      <th>messages_included</th>\n",
       "      <th>mb_per_month_included</th>\n",
       "      <th>minutes_included</th>\n",
       "      <th>usd_monthly_pay</th>\n",
       "      <th>usd_per_gb</th>\n",
       "      <th>usd_per_message</th>\n",
       "      <th>usd_per_minute</th>\n",
       "      <th>plan_name</th>\n",
       "    </tr>\n",
       "    <tr>\n",
       "      <th>user_id</th>\n",
       "      <th></th>\n",
       "      <th></th>\n",
       "      <th></th>\n",
       "      <th></th>\n",
       "      <th></th>\n",
       "      <th></th>\n",
       "      <th></th>\n",
       "      <th></th>\n",
       "      <th></th>\n",
       "      <th></th>\n",
       "      <th></th>\n",
       "      <th></th>\n",
       "      <th></th>\n",
       "      <th></th>\n",
       "      <th></th>\n",
       "    </tr>\n",
       "  </thead>\n",
       "  <tbody>\n",
       "    <tr>\n",
       "      <th>1000</th>\n",
       "      <td>Anamaria</td>\n",
       "      <td>Bauer</td>\n",
       "      <td>45</td>\n",
       "      <td>Atlanta-Sandy Springs-Roswell, GA MSA</td>\n",
       "      <td>2018-12-24</td>\n",
       "      <td>ultimate</td>\n",
       "      <td>NaN</td>\n",
       "      <td>1000</td>\n",
       "      <td>30720</td>\n",
       "      <td>3000</td>\n",
       "      <td>70</td>\n",
       "      <td>7</td>\n",
       "      <td>0.01</td>\n",
       "      <td>0.01</td>\n",
       "      <td>ultimate</td>\n",
       "    </tr>\n",
       "    <tr>\n",
       "      <th>1001</th>\n",
       "      <td>Mickey</td>\n",
       "      <td>Wilkerson</td>\n",
       "      <td>28</td>\n",
       "      <td>Seattle-Tacoma-Bellevue, WA MSA</td>\n",
       "      <td>2018-08-13</td>\n",
       "      <td>surf</td>\n",
       "      <td>NaN</td>\n",
       "      <td>50</td>\n",
       "      <td>15360</td>\n",
       "      <td>500</td>\n",
       "      <td>20</td>\n",
       "      <td>10</td>\n",
       "      <td>0.03</td>\n",
       "      <td>0.03</td>\n",
       "      <td>surf</td>\n",
       "    </tr>\n",
       "    <tr>\n",
       "      <th>1002</th>\n",
       "      <td>Carlee</td>\n",
       "      <td>Hoffman</td>\n",
       "      <td>36</td>\n",
       "      <td>Las Vegas-Henderson-Paradise, NV MSA</td>\n",
       "      <td>2018-10-21</td>\n",
       "      <td>surf</td>\n",
       "      <td>NaN</td>\n",
       "      <td>50</td>\n",
       "      <td>15360</td>\n",
       "      <td>500</td>\n",
       "      <td>20</td>\n",
       "      <td>10</td>\n",
       "      <td>0.03</td>\n",
       "      <td>0.03</td>\n",
       "      <td>surf</td>\n",
       "    </tr>\n",
       "    <tr>\n",
       "      <th>1003</th>\n",
       "      <td>Reynaldo</td>\n",
       "      <td>Jenkins</td>\n",
       "      <td>52</td>\n",
       "      <td>Tulsa, OK MSA</td>\n",
       "      <td>2018-01-28</td>\n",
       "      <td>surf</td>\n",
       "      <td>NaN</td>\n",
       "      <td>50</td>\n",
       "      <td>15360</td>\n",
       "      <td>500</td>\n",
       "      <td>20</td>\n",
       "      <td>10</td>\n",
       "      <td>0.03</td>\n",
       "      <td>0.03</td>\n",
       "      <td>surf</td>\n",
       "    </tr>\n",
       "    <tr>\n",
       "      <th>1004</th>\n",
       "      <td>Leonila</td>\n",
       "      <td>Thompson</td>\n",
       "      <td>40</td>\n",
       "      <td>Seattle-Tacoma-Bellevue, WA MSA</td>\n",
       "      <td>2018-05-23</td>\n",
       "      <td>surf</td>\n",
       "      <td>NaN</td>\n",
       "      <td>50</td>\n",
       "      <td>15360</td>\n",
       "      <td>500</td>\n",
       "      <td>20</td>\n",
       "      <td>10</td>\n",
       "      <td>0.03</td>\n",
       "      <td>0.03</td>\n",
       "      <td>surf</td>\n",
       "    </tr>\n",
       "    <tr>\n",
       "      <th>...</th>\n",
       "      <td>...</td>\n",
       "      <td>...</td>\n",
       "      <td>...</td>\n",
       "      <td>...</td>\n",
       "      <td>...</td>\n",
       "      <td>...</td>\n",
       "      <td>...</td>\n",
       "      <td>...</td>\n",
       "      <td>...</td>\n",
       "      <td>...</td>\n",
       "      <td>...</td>\n",
       "      <td>...</td>\n",
       "      <td>...</td>\n",
       "      <td>...</td>\n",
       "      <td>...</td>\n",
       "    </tr>\n",
       "    <tr>\n",
       "      <th>1495</th>\n",
       "      <td>Fidel</td>\n",
       "      <td>Sharpe</td>\n",
       "      <td>67</td>\n",
       "      <td>New York-Newark-Jersey City, NY-NJ-PA MSA</td>\n",
       "      <td>2018-09-04</td>\n",
       "      <td>surf</td>\n",
       "      <td>NaN</td>\n",
       "      <td>50</td>\n",
       "      <td>15360</td>\n",
       "      <td>500</td>\n",
       "      <td>20</td>\n",
       "      <td>10</td>\n",
       "      <td>0.03</td>\n",
       "      <td>0.03</td>\n",
       "      <td>surf</td>\n",
       "    </tr>\n",
       "    <tr>\n",
       "      <th>1496</th>\n",
       "      <td>Ariel</td>\n",
       "      <td>Shepherd</td>\n",
       "      <td>49</td>\n",
       "      <td>New Orleans-Metairie, LA MSA</td>\n",
       "      <td>2018-02-20</td>\n",
       "      <td>surf</td>\n",
       "      <td>NaN</td>\n",
       "      <td>50</td>\n",
       "      <td>15360</td>\n",
       "      <td>500</td>\n",
       "      <td>20</td>\n",
       "      <td>10</td>\n",
       "      <td>0.03</td>\n",
       "      <td>0.03</td>\n",
       "      <td>surf</td>\n",
       "    </tr>\n",
       "    <tr>\n",
       "      <th>1497</th>\n",
       "      <td>Donte</td>\n",
       "      <td>Barrera</td>\n",
       "      <td>49</td>\n",
       "      <td>Los Angeles-Long Beach-Anaheim, CA MSA</td>\n",
       "      <td>2018-12-10</td>\n",
       "      <td>ultimate</td>\n",
       "      <td>NaN</td>\n",
       "      <td>1000</td>\n",
       "      <td>30720</td>\n",
       "      <td>3000</td>\n",
       "      <td>70</td>\n",
       "      <td>7</td>\n",
       "      <td>0.01</td>\n",
       "      <td>0.01</td>\n",
       "      <td>ultimate</td>\n",
       "    </tr>\n",
       "    <tr>\n",
       "      <th>1498</th>\n",
       "      <td>Scot</td>\n",
       "      <td>Williamson</td>\n",
       "      <td>51</td>\n",
       "      <td>New York-Newark-Jersey City, NY-NJ-PA MSA</td>\n",
       "      <td>2018-02-04</td>\n",
       "      <td>surf</td>\n",
       "      <td>NaN</td>\n",
       "      <td>50</td>\n",
       "      <td>15360</td>\n",
       "      <td>500</td>\n",
       "      <td>20</td>\n",
       "      <td>10</td>\n",
       "      <td>0.03</td>\n",
       "      <td>0.03</td>\n",
       "      <td>surf</td>\n",
       "    </tr>\n",
       "    <tr>\n",
       "      <th>1499</th>\n",
       "      <td>Shena</td>\n",
       "      <td>Dickson</td>\n",
       "      <td>37</td>\n",
       "      <td>Orlando-Kissimmee-Sanford, FL MSA</td>\n",
       "      <td>2018-05-06</td>\n",
       "      <td>surf</td>\n",
       "      <td>NaN</td>\n",
       "      <td>50</td>\n",
       "      <td>15360</td>\n",
       "      <td>500</td>\n",
       "      <td>20</td>\n",
       "      <td>10</td>\n",
       "      <td>0.03</td>\n",
       "      <td>0.03</td>\n",
       "      <td>surf</td>\n",
       "    </tr>\n",
       "  </tbody>\n",
       "</table>\n",
       "<p>500 rows × 15 columns</p>\n",
       "</div>"
      ],
      "text/plain": [
       "        first_name   last_name  age  \\\n",
       "user_id                               \n",
       "1000      Anamaria       Bauer   45   \n",
       "1001        Mickey   Wilkerson   28   \n",
       "1002        Carlee     Hoffman   36   \n",
       "1003      Reynaldo     Jenkins   52   \n",
       "1004       Leonila    Thompson   40   \n",
       "...            ...         ...  ...   \n",
       "1495         Fidel      Sharpe   67   \n",
       "1496         Ariel    Shepherd   49   \n",
       "1497         Donte     Barrera   49   \n",
       "1498          Scot  Williamson   51   \n",
       "1499         Shena     Dickson   37   \n",
       "\n",
       "                                              city    reg_date      plan  \\\n",
       "user_id                                                                    \n",
       "1000         Atlanta-Sandy Springs-Roswell, GA MSA  2018-12-24  ultimate   \n",
       "1001               Seattle-Tacoma-Bellevue, WA MSA  2018-08-13      surf   \n",
       "1002          Las Vegas-Henderson-Paradise, NV MSA  2018-10-21      surf   \n",
       "1003                                 Tulsa, OK MSA  2018-01-28      surf   \n",
       "1004               Seattle-Tacoma-Bellevue, WA MSA  2018-05-23      surf   \n",
       "...                                            ...         ...       ...   \n",
       "1495     New York-Newark-Jersey City, NY-NJ-PA MSA  2018-09-04      surf   \n",
       "1496                  New Orleans-Metairie, LA MSA  2018-02-20      surf   \n",
       "1497        Los Angeles-Long Beach-Anaheim, CA MSA  2018-12-10  ultimate   \n",
       "1498     New York-Newark-Jersey City, NY-NJ-PA MSA  2018-02-04      surf   \n",
       "1499             Orlando-Kissimmee-Sanford, FL MSA  2018-05-06      surf   \n",
       "\n",
       "        churn_date  messages_included  mb_per_month_included  \\\n",
       "user_id                                                        \n",
       "1000           NaN               1000                  30720   \n",
       "1001           NaN                 50                  15360   \n",
       "1002           NaN                 50                  15360   \n",
       "1003           NaN                 50                  15360   \n",
       "1004           NaN                 50                  15360   \n",
       "...            ...                ...                    ...   \n",
       "1495           NaN                 50                  15360   \n",
       "1496           NaN                 50                  15360   \n",
       "1497           NaN               1000                  30720   \n",
       "1498           NaN                 50                  15360   \n",
       "1499           NaN                 50                  15360   \n",
       "\n",
       "         minutes_included  usd_monthly_pay  usd_per_gb  usd_per_message  \\\n",
       "user_id                                                                   \n",
       "1000                 3000               70           7             0.01   \n",
       "1001                  500               20          10             0.03   \n",
       "1002                  500               20          10             0.03   \n",
       "1003                  500               20          10             0.03   \n",
       "1004                  500               20          10             0.03   \n",
       "...                   ...              ...         ...              ...   \n",
       "1495                  500               20          10             0.03   \n",
       "1496                  500               20          10             0.03   \n",
       "1497                 3000               70           7             0.01   \n",
       "1498                  500               20          10             0.03   \n",
       "1499                  500               20          10             0.03   \n",
       "\n",
       "         usd_per_minute plan_name  \n",
       "user_id                            \n",
       "1000               0.01  ultimate  \n",
       "1001               0.03      surf  \n",
       "1002               0.03      surf  \n",
       "1003               0.03      surf  \n",
       "1004               0.03      surf  \n",
       "...                 ...       ...  \n",
       "1495               0.03      surf  \n",
       "1496               0.03      surf  \n",
       "1497               0.01  ultimate  \n",
       "1498               0.03      surf  \n",
       "1499               0.03      surf  \n",
       "\n",
       "[500 rows x 15 columns]"
      ]
     },
     "execution_count": 87,
     "metadata": {},
     "output_type": "execute_result"
    }
   ],
   "source": [
    "# Añade la información de la tarifa\n",
    "# Se une la informacion de usuarios y de los planes en una sola tabla con el metodo merge() en la columna plan\n",
    "#users_plans = users[['user_id', 'plan']].merge(plans, left_on='plan', right_on='plan_name').sort_values('user_id').set_index('user_id')\n",
    "users_plans = users.merge(plans, left_on='plan', right_on='plan_name').sort_values('user_id').set_index('user_id')\n",
    "users_plans\n"
   ]
  },
  {
   "cell_type": "code",
   "execution_count": 88,
   "metadata": {},
   "outputs": [
    {
     "data": {
      "text/html": [
       "<div>\n",
       "<style scoped>\n",
       "    .dataframe tbody tr th:only-of-type {\n",
       "        vertical-align: middle;\n",
       "    }\n",
       "\n",
       "    .dataframe tbody tr th {\n",
       "        vertical-align: top;\n",
       "    }\n",
       "\n",
       "    .dataframe thead th {\n",
       "        text-align: right;\n",
       "    }\n",
       "</style>\n",
       "<table border=\"1\" class=\"dataframe\">\n",
       "  <thead>\n",
       "    <tr style=\"text-align: right;\">\n",
       "      <th></th>\n",
       "      <th></th>\n",
       "      <th>calls</th>\n",
       "      <th>charged_duration</th>\n",
       "      <th>messages</th>\n",
       "      <th>mb_used</th>\n",
       "      <th>first_name</th>\n",
       "      <th>last_name</th>\n",
       "      <th>age</th>\n",
       "      <th>city</th>\n",
       "      <th>reg_date</th>\n",
       "      <th>plan</th>\n",
       "      <th>churn_date</th>\n",
       "      <th>messages_included</th>\n",
       "      <th>mb_per_month_included</th>\n",
       "      <th>minutes_included</th>\n",
       "      <th>usd_monthly_pay</th>\n",
       "      <th>usd_per_gb</th>\n",
       "      <th>usd_per_message</th>\n",
       "      <th>usd_per_minute</th>\n",
       "      <th>plan_name</th>\n",
       "    </tr>\n",
       "    <tr>\n",
       "      <th>user_id</th>\n",
       "      <th>month</th>\n",
       "      <th></th>\n",
       "      <th></th>\n",
       "      <th></th>\n",
       "      <th></th>\n",
       "      <th></th>\n",
       "      <th></th>\n",
       "      <th></th>\n",
       "      <th></th>\n",
       "      <th></th>\n",
       "      <th></th>\n",
       "      <th></th>\n",
       "      <th></th>\n",
       "      <th></th>\n",
       "      <th></th>\n",
       "      <th></th>\n",
       "      <th></th>\n",
       "      <th></th>\n",
       "      <th></th>\n",
       "      <th></th>\n",
       "    </tr>\n",
       "  </thead>\n",
       "  <tbody>\n",
       "    <tr>\n",
       "      <th>1000</th>\n",
       "      <th>12</th>\n",
       "      <td>16.0</td>\n",
       "      <td>124.0</td>\n",
       "      <td>11.0</td>\n",
       "      <td>1901.47</td>\n",
       "      <td>Anamaria</td>\n",
       "      <td>Bauer</td>\n",
       "      <td>45</td>\n",
       "      <td>Atlanta-Sandy Springs-Roswell, GA MSA</td>\n",
       "      <td>2018-12-24</td>\n",
       "      <td>ultimate</td>\n",
       "      <td>0</td>\n",
       "      <td>1000</td>\n",
       "      <td>30720</td>\n",
       "      <td>3000</td>\n",
       "      <td>70</td>\n",
       "      <td>7</td>\n",
       "      <td>0.01</td>\n",
       "      <td>0.01</td>\n",
       "      <td>ultimate</td>\n",
       "    </tr>\n",
       "    <tr>\n",
       "      <th rowspan=\"4\" valign=\"top\">1001</th>\n",
       "      <th>8</th>\n",
       "      <td>27.0</td>\n",
       "      <td>182.0</td>\n",
       "      <td>21.0</td>\n",
       "      <td>7131.50</td>\n",
       "      <td>Mickey</td>\n",
       "      <td>Wilkerson</td>\n",
       "      <td>28</td>\n",
       "      <td>Seattle-Tacoma-Bellevue, WA MSA</td>\n",
       "      <td>2018-08-13</td>\n",
       "      <td>surf</td>\n",
       "      <td>0</td>\n",
       "      <td>50</td>\n",
       "      <td>15360</td>\n",
       "      <td>500</td>\n",
       "      <td>20</td>\n",
       "      <td>10</td>\n",
       "      <td>0.03</td>\n",
       "      <td>0.03</td>\n",
       "      <td>surf</td>\n",
       "    </tr>\n",
       "    <tr>\n",
       "      <th>9</th>\n",
       "      <td>49.0</td>\n",
       "      <td>315.0</td>\n",
       "      <td>39.0</td>\n",
       "      <td>13311.04</td>\n",
       "      <td>Mickey</td>\n",
       "      <td>Wilkerson</td>\n",
       "      <td>28</td>\n",
       "      <td>Seattle-Tacoma-Bellevue, WA MSA</td>\n",
       "      <td>2018-08-13</td>\n",
       "      <td>surf</td>\n",
       "      <td>0</td>\n",
       "      <td>50</td>\n",
       "      <td>15360</td>\n",
       "      <td>500</td>\n",
       "      <td>20</td>\n",
       "      <td>10</td>\n",
       "      <td>0.03</td>\n",
       "      <td>0.03</td>\n",
       "      <td>surf</td>\n",
       "    </tr>\n",
       "    <tr>\n",
       "      <th>10</th>\n",
       "      <td>65.0</td>\n",
       "      <td>393.0</td>\n",
       "      <td>52.0</td>\n",
       "      <td>20406.45</td>\n",
       "      <td>Mickey</td>\n",
       "      <td>Wilkerson</td>\n",
       "      <td>28</td>\n",
       "      <td>Seattle-Tacoma-Bellevue, WA MSA</td>\n",
       "      <td>2018-08-13</td>\n",
       "      <td>surf</td>\n",
       "      <td>0</td>\n",
       "      <td>50</td>\n",
       "      <td>15360</td>\n",
       "      <td>500</td>\n",
       "      <td>20</td>\n",
       "      <td>10</td>\n",
       "      <td>0.03</td>\n",
       "      <td>0.03</td>\n",
       "      <td>surf</td>\n",
       "    </tr>\n",
       "    <tr>\n",
       "      <th>11</th>\n",
       "      <td>64.0</td>\n",
       "      <td>426.0</td>\n",
       "      <td>48.0</td>\n",
       "      <td>20873.07</td>\n",
       "      <td>Mickey</td>\n",
       "      <td>Wilkerson</td>\n",
       "      <td>28</td>\n",
       "      <td>Seattle-Tacoma-Bellevue, WA MSA</td>\n",
       "      <td>2018-08-13</td>\n",
       "      <td>surf</td>\n",
       "      <td>0</td>\n",
       "      <td>50</td>\n",
       "      <td>15360</td>\n",
       "      <td>500</td>\n",
       "      <td>20</td>\n",
       "      <td>10</td>\n",
       "      <td>0.03</td>\n",
       "      <td>0.03</td>\n",
       "      <td>surf</td>\n",
       "    </tr>\n",
       "    <tr>\n",
       "      <th>...</th>\n",
       "      <th>...</th>\n",
       "      <td>...</td>\n",
       "      <td>...</td>\n",
       "      <td>...</td>\n",
       "      <td>...</td>\n",
       "      <td>...</td>\n",
       "      <td>...</td>\n",
       "      <td>...</td>\n",
       "      <td>...</td>\n",
       "      <td>...</td>\n",
       "      <td>...</td>\n",
       "      <td>...</td>\n",
       "      <td>...</td>\n",
       "      <td>...</td>\n",
       "      <td>...</td>\n",
       "      <td>...</td>\n",
       "      <td>...</td>\n",
       "      <td>...</td>\n",
       "      <td>...</td>\n",
       "      <td>...</td>\n",
       "    </tr>\n",
       "    <tr>\n",
       "      <th rowspan=\"5\" valign=\"top\">1499</th>\n",
       "      <th>8</th>\n",
       "      <td>0.0</td>\n",
       "      <td>0.0</td>\n",
       "      <td>0.0</td>\n",
       "      <td>9488.37</td>\n",
       "      <td>Shena</td>\n",
       "      <td>Dickson</td>\n",
       "      <td>37</td>\n",
       "      <td>Orlando-Kissimmee-Sanford, FL MSA</td>\n",
       "      <td>2018-05-06</td>\n",
       "      <td>surf</td>\n",
       "      <td>0</td>\n",
       "      <td>50</td>\n",
       "      <td>15360</td>\n",
       "      <td>500</td>\n",
       "      <td>20</td>\n",
       "      <td>10</td>\n",
       "      <td>0.03</td>\n",
       "      <td>0.03</td>\n",
       "      <td>surf</td>\n",
       "    </tr>\n",
       "    <tr>\n",
       "      <th>9</th>\n",
       "      <td>41.0</td>\n",
       "      <td>346.0</td>\n",
       "      <td>0.0</td>\n",
       "      <td>9542.05</td>\n",
       "      <td>Shena</td>\n",
       "      <td>Dickson</td>\n",
       "      <td>37</td>\n",
       "      <td>Orlando-Kissimmee-Sanford, FL MSA</td>\n",
       "      <td>2018-05-06</td>\n",
       "      <td>surf</td>\n",
       "      <td>0</td>\n",
       "      <td>50</td>\n",
       "      <td>15360</td>\n",
       "      <td>500</td>\n",
       "      <td>20</td>\n",
       "      <td>10</td>\n",
       "      <td>0.03</td>\n",
       "      <td>0.03</td>\n",
       "      <td>surf</td>\n",
       "    </tr>\n",
       "    <tr>\n",
       "      <th>10</th>\n",
       "      <td>53.0</td>\n",
       "      <td>385.0</td>\n",
       "      <td>0.0</td>\n",
       "      <td>5879.22</td>\n",
       "      <td>Shena</td>\n",
       "      <td>Dickson</td>\n",
       "      <td>37</td>\n",
       "      <td>Orlando-Kissimmee-Sanford, FL MSA</td>\n",
       "      <td>2018-05-06</td>\n",
       "      <td>surf</td>\n",
       "      <td>0</td>\n",
       "      <td>50</td>\n",
       "      <td>15360</td>\n",
       "      <td>500</td>\n",
       "      <td>20</td>\n",
       "      <td>10</td>\n",
       "      <td>0.03</td>\n",
       "      <td>0.03</td>\n",
       "      <td>surf</td>\n",
       "    </tr>\n",
       "    <tr>\n",
       "      <th>11</th>\n",
       "      <td>45.0</td>\n",
       "      <td>308.0</td>\n",
       "      <td>0.0</td>\n",
       "      <td>10283.54</td>\n",
       "      <td>Shena</td>\n",
       "      <td>Dickson</td>\n",
       "      <td>37</td>\n",
       "      <td>Orlando-Kissimmee-Sanford, FL MSA</td>\n",
       "      <td>2018-05-06</td>\n",
       "      <td>surf</td>\n",
       "      <td>0</td>\n",
       "      <td>50</td>\n",
       "      <td>15360</td>\n",
       "      <td>500</td>\n",
       "      <td>20</td>\n",
       "      <td>10</td>\n",
       "      <td>0.03</td>\n",
       "      <td>0.03</td>\n",
       "      <td>surf</td>\n",
       "    </tr>\n",
       "    <tr>\n",
       "      <th>12</th>\n",
       "      <td>65.0</td>\n",
       "      <td>496.0</td>\n",
       "      <td>0.0</td>\n",
       "      <td>14310.33</td>\n",
       "      <td>Shena</td>\n",
       "      <td>Dickson</td>\n",
       "      <td>37</td>\n",
       "      <td>Orlando-Kissimmee-Sanford, FL MSA</td>\n",
       "      <td>2018-05-06</td>\n",
       "      <td>surf</td>\n",
       "      <td>0</td>\n",
       "      <td>50</td>\n",
       "      <td>15360</td>\n",
       "      <td>500</td>\n",
       "      <td>20</td>\n",
       "      <td>10</td>\n",
       "      <td>0.03</td>\n",
       "      <td>0.03</td>\n",
       "      <td>surf</td>\n",
       "    </tr>\n",
       "  </tbody>\n",
       "</table>\n",
       "<p>4310 rows × 19 columns</p>\n",
       "</div>"
      ],
      "text/plain": [
       "               calls  charged_duration  messages   mb_used first_name  \\\n",
       "user_id month                                                           \n",
       "1000    12      16.0             124.0      11.0   1901.47   Anamaria   \n",
       "1001    8       27.0             182.0      21.0   7131.50     Mickey   \n",
       "        9       49.0             315.0      39.0  13311.04     Mickey   \n",
       "        10      65.0             393.0      52.0  20406.45     Mickey   \n",
       "        11      64.0             426.0      48.0  20873.07     Mickey   \n",
       "...              ...               ...       ...       ...        ...   \n",
       "1499    8        0.0               0.0       0.0   9488.37      Shena   \n",
       "        9       41.0             346.0       0.0   9542.05      Shena   \n",
       "        10      53.0             385.0       0.0   5879.22      Shena   \n",
       "        11      45.0             308.0       0.0  10283.54      Shena   \n",
       "        12      65.0             496.0       0.0  14310.33      Shena   \n",
       "\n",
       "               last_name  age                                   city  \\\n",
       "user_id month                                                          \n",
       "1000    12         Bauer   45  Atlanta-Sandy Springs-Roswell, GA MSA   \n",
       "1001    8      Wilkerson   28        Seattle-Tacoma-Bellevue, WA MSA   \n",
       "        9      Wilkerson   28        Seattle-Tacoma-Bellevue, WA MSA   \n",
       "        10     Wilkerson   28        Seattle-Tacoma-Bellevue, WA MSA   \n",
       "        11     Wilkerson   28        Seattle-Tacoma-Bellevue, WA MSA   \n",
       "...                  ...  ...                                    ...   \n",
       "1499    8        Dickson   37      Orlando-Kissimmee-Sanford, FL MSA   \n",
       "        9        Dickson   37      Orlando-Kissimmee-Sanford, FL MSA   \n",
       "        10       Dickson   37      Orlando-Kissimmee-Sanford, FL MSA   \n",
       "        11       Dickson   37      Orlando-Kissimmee-Sanford, FL MSA   \n",
       "        12       Dickson   37      Orlando-Kissimmee-Sanford, FL MSA   \n",
       "\n",
       "                 reg_date      plan churn_date  messages_included  \\\n",
       "user_id month                                                       \n",
       "1000    12     2018-12-24  ultimate          0               1000   \n",
       "1001    8      2018-08-13      surf          0                 50   \n",
       "        9      2018-08-13      surf          0                 50   \n",
       "        10     2018-08-13      surf          0                 50   \n",
       "        11     2018-08-13      surf          0                 50   \n",
       "...                   ...       ...        ...                ...   \n",
       "1499    8      2018-05-06      surf          0                 50   \n",
       "        9      2018-05-06      surf          0                 50   \n",
       "        10     2018-05-06      surf          0                 50   \n",
       "        11     2018-05-06      surf          0                 50   \n",
       "        12     2018-05-06      surf          0                 50   \n",
       "\n",
       "               mb_per_month_included  minutes_included  usd_monthly_pay  \\\n",
       "user_id month                                                             \n",
       "1000    12                     30720              3000               70   \n",
       "1001    8                      15360               500               20   \n",
       "        9                      15360               500               20   \n",
       "        10                     15360               500               20   \n",
       "        11                     15360               500               20   \n",
       "...                              ...               ...              ...   \n",
       "1499    8                      15360               500               20   \n",
       "        9                      15360               500               20   \n",
       "        10                     15360               500               20   \n",
       "        11                     15360               500               20   \n",
       "        12                     15360               500               20   \n",
       "\n",
       "               usd_per_gb  usd_per_message  usd_per_minute plan_name  \n",
       "user_id month                                                         \n",
       "1000    12              7             0.01            0.01  ultimate  \n",
       "1001    8              10             0.03            0.03      surf  \n",
       "        9              10             0.03            0.03      surf  \n",
       "        10             10             0.03            0.03      surf  \n",
       "        11             10             0.03            0.03      surf  \n",
       "...                   ...              ...             ...       ...  \n",
       "1499    8              10             0.03            0.03      surf  \n",
       "        9              10             0.03            0.03      surf  \n",
       "        10             10             0.03            0.03      surf  \n",
       "        11             10             0.03            0.03      surf  \n",
       "        12             10             0.03            0.03      surf  \n",
       "\n",
       "[4310 rows x 19 columns]"
      ]
     },
     "execution_count": 88,
     "metadata": {},
     "output_type": "execute_result"
    }
   ],
   "source": [
    "# Se fusiona la informacion anterior con la de los consumos usando el metodo join(), ya que se comparte el indice user_id\n",
    "all_users_month_plans = calls_duration_messages_mb_users_month.join(users_plans, how='inner').fillna(0)\n",
    "all_users_month_plans"
   ]
  },
  {
   "cell_type": "code",
   "execution_count": 89,
   "metadata": {
    "id": "5FGCf_c60q1I"
   },
   "outputs": [
    {
     "data": {
      "text/plain": [
       "user_id  month\n",
       "1000     12       70.00\n",
       "1001     8        20.00\n",
       "         9        20.00\n",
       "         10       70.06\n",
       "         11       80.00\n",
       "                  ...  \n",
       "1499     8        20.00\n",
       "         9        20.00\n",
       "         10       20.00\n",
       "         11       20.00\n",
       "         12       20.00\n",
       "Length: 4310, dtype: float64"
      ]
     },
     "execution_count": 89,
     "metadata": {},
     "output_type": "execute_result"
    }
   ],
   "source": [
    "# Calcula el ingreso mensual para cada usuario\n",
    "# Ingreso por llamadas\n",
    "income_calls_user_month = ((all_users_month_plans['charged_duration'] - all_users_month_plans['minutes_included']).clip(0, None))*all_users_month_plans['usd_per_minute']\n",
    "# Ingreso por mensajes\n",
    "income_messages_user_month = ((all_users_month_plans['messages'] - all_users_month_plans['messages_included']).clip(0, None))*all_users_month_plans['usd_per_message']\n",
    "# Ingreso por mbs\n",
    "income_mb_user_month = (np.ceil(all_users_month_plans['mb_used'] / 1024) - np.ceil(all_users_month_plans['mb_per_month_included'] / 1024)).clip(0, None)*all_users_month_plans['usd_per_gb']\n",
    "# Ingreso total\n",
    "income_total_users_month = income_calls_user_month + income_messages_user_month + income_mb_user_month + all_users_month_plans['usd_monthly_pay']\n",
    "income_total_users_month"
   ]
  },
  {
   "cell_type": "markdown",
   "metadata": {
    "id": "-jtyHzJb0q1I"
   },
   "source": [
    "## Estudia el comportamiento de usuario"
   ]
  },
  {
   "cell_type": "markdown",
   "metadata": {
    "id": "vtW4CJEe0q1J"
   },
   "source": [
    "### Llamadas"
   ]
  },
  {
   "cell_type": "code",
   "execution_count": 90,
   "metadata": {},
   "outputs": [
    {
     "data": {
      "image/png": "[encoded data removed]",
      "text/plain": [
       "<Figure size 432x288 with 1 Axes>"
      ]
     },
     "metadata": {
      "needs_background": "light"
     },
     "output_type": "display_data"
    }
   ],
   "source": [
    "# Compara la duración promedio de llamadas por cada plan y por cada mes. Traza un gráfico de barras para visualizarla.\n",
    "total_calls_duration_month = all_users_month_plans[['charged_duration', 'plan', 'calls']].groupby(by=['month', 'plan'])[['charged_duration', 'calls']].sum()['charged_duration']\n",
    "total_calls_number_month = all_users_month_plans[['charged_duration', 'plan', 'calls']].groupby(by=['month', 'plan'])[['charged_duration', 'calls']].sum()['calls']\n",
    "avg_call_duration_month = total_calls_duration_month / total_calls_number_month\n",
    "avg_call_duration_month.unstack().plot(kind='bar',\n",
    "                                      rot=0,\n",
    "                                      xlabel='Meses', \n",
    "                                    ylabel='Duracion de llamandas (min/llamada)',\n",
    "                                    title='Evolucion anual de la duracion promedio de llamdas por tipo de plan')\n",
    "plt.xticks(range(12), ['En', 'Feb', 'Mar', 'Abr', 'May', 'Jun', 'Jul', 'Ago', 'Set', 'Oct', 'Nov', 'Dec'])\n",
    "plt.show()"
   ]
  },
  {
   "cell_type": "code",
   "execution_count": 91,
   "metadata": {
    "id": "QoLqW1S_0q1J"
   },
   "outputs": [
    {
     "data": {
      "image/png": "[encoded data removed]",
      "text/plain": [
       "<Figure size 432x288 with 1 Axes>"
      ]
     },
     "metadata": {
      "needs_background": "light"
     },
     "output_type": "display_data"
    }
   ],
   "source": [
    "# Compara el número de minutos mensuales que necesitan los usuarios de cada plan. Traza un histograma.\n",
    "# pd.pivot_table(all_users_month_plans[['charged_duration', 'plan']].replace(0, np.nan), values='charged_duration', index='user_id', columns=['plan'], aggfunc='mean')\n",
    "# Se filtra los usuarios del plan surf. La columna de duracion se agrupa por usuario y se saca el promedio sobre los meses\n",
    "all_users_month_plans[all_users_month_plans['plan'] == 'surf']['charged_duration'].replace(0, np.nan).groupby('user_id').mean().plot(kind='hist',\n",
    "                                                                                                                                        bins=[0, 100, 200, 300, 400, 500, 600, 700, 800, 900, 1000, 1100, 1200],\n",
    "                                                                                                                                        alpha=1)\n",
    "# Se filtra los usuarios del plan ultimate. La columna de duracion se agrupa por usuario y se saca el promedio sobre los meses\n",
    "all_users_month_plans[all_users_month_plans['plan'] == 'ultimate']['charged_duration'].replace(0, np.nan).groupby('user_id').mean().plot(kind='hist',\n",
    "                                                                                                                                    bins=[0, 100, 200, 300, 400, 500, 600, 700, 800, 900, 1000, 1100, 1200],\n",
    "                                                                                                                                    alpha=1)\n",
    "\n",
    "plt.xlabel('Minutos mensuales utilizados')\n",
    "plt.xticks([0, 100, 200, 300, 400, 500, 600, 700, 800, 900, 1000, 1100, 1200])\n",
    "plt.ylabel('Cantidad de usuarios')\n",
    "plt.legend(['surf', 'ultimate'])\n",
    "plt.title('Duracion total de llamadas por tipo de plan')\n",
    "plt.show()\n",
    "\n"
   ]
  },
  {
   "cell_type": "code",
   "execution_count": 92,
   "metadata": {
    "id": "oSndbAnt0q1K"
   },
   "outputs": [
    {
     "name": "stdout",
     "output_type": "stream",
     "text": [
      "Plan Surf\n",
      "Media de minutos mensuales utilizados:  418.5360037712798\n",
      "Varianza de minutos mensuales utilizados:  37422.1301988718\n",
      "Des.Est. de minutos mensuales utilizados:  193.4480038637561\n",
      "Plan Ultimate\n",
      "Media de minutos mensuales utilizados:  415.3093518130615\n",
      "Varianza de minutos mensuales utilizados:  37783.66927705704\n",
      "Des.Est. de minutos mensuales utilizados:  194.38021832752693\n"
     ]
    }
   ],
   "source": [
    "# Calcula la media y la varianza de la duración mensual de llamadas.\n",
    "# Para el plan surf\n",
    "# Se calcula la media\n",
    "avg_month_duration_surf = all_users_month_plans[all_users_month_plans['plan'] == 'surf']['charged_duration'].replace(0, np.nan).groupby('user_id').mean().mean()\n",
    "# Se calcula la varianza\n",
    "var_month_duration_surf = all_users_month_plans[all_users_month_plans['plan'] == 'surf']['charged_duration'].replace(0, np.nan).groupby('user_id').mean().var()\n",
    "\n",
    "# Se imprimen los valores\n",
    "print('Plan Surf')\n",
    "print('Media de minutos mensuales utilizados: ', avg_month_duration_surf)\n",
    "print('Varianza de minutos mensuales utilizados: ', var_month_duration_surf)\n",
    "print('Des.Est. de minutos mensuales utilizados: ', np.sqrt(var_month_duration_surf))\n",
    "\n",
    "# Para el plan ultimate\n",
    "# Se calcula la media\n",
    "avg_month_duration_ultimate = all_users_month_plans[all_users_month_plans['plan'] == 'ultimate']['charged_duration'].replace(0, np.nan).groupby('user_id').mean().mean()\n",
    "# Se calcula la varianza\n",
    "var_month_duration_ultimate = all_users_month_plans[all_users_month_plans['plan'] == 'ultimate']['charged_duration'].replace(0, np.nan).groupby('user_id').mean().var()\n",
    "\n",
    "# Se imprimen los valores\n",
    "print('Plan Ultimate')\n",
    "print('Media de minutos mensuales utilizados: ', avg_month_duration_ultimate)\n",
    "print('Varianza de minutos mensuales utilizados: ', var_month_duration_ultimate)\n",
    "print('Des.Est. de minutos mensuales utilizados: ', np.sqrt(var_month_duration_ultimate))"
   ]
  },
  {
   "cell_type": "code",
   "execution_count": 93,
   "metadata": {
    "id": "nZzoRUKc0q1K"
   },
   "outputs": [
    {
     "data": {
      "image/png": "[encoded data removed]",
      "text/plain": [
       "<Figure size 432x288 with 2 Axes>"
      ]
     },
     "metadata": {
      "needs_background": "light"
     },
     "output_type": "display_data"
    }
   ],
   "source": [
    "# Traza un diagrama de caja para visualizar la distribución de la duración mensual de llamadas\n",
    "# Se generasn subplots\n",
    "fig, axes = plt.subplots(2, 1, sharex=True)\n",
    "# Para el plan surf\n",
    "# Se genera un diagrama de cajas\n",
    "all_users_month_plans[all_users_month_plans['plan'] == 'surf']['charged_duration'].replace(0, np.nan).groupby('user_id').mean().rename('surf').to_frame().boxplot(ax=axes[0], vert=False)\n",
    "# Para el plan ultimate\n",
    "# Se genera un diagrama de cajas\n",
    "all_users_month_plans[all_users_month_plans['plan'] == 'ultimate']['charged_duration'].replace(0, np.nan).groupby('user_id').mean().rename('ultimate').to_frame().boxplot(ax=axes[1], vert=False)\n",
    "plt.xlabel('Minutos mensuales utilizados')\n",
    "plt.xlim([-50, 1200])\n",
    "fig.suptitle('Minutos mensuales utilizados por tipo de plan ')\n",
    "plt.show()"
   ]
  },
  {
   "cell_type": "markdown",
   "metadata": {
    "id": "r627zBO50q1K"
   },
   "source": [
    "Se puede observar que las graficas que describen el comportamiento de los usuarios son similares. En el caso de la duracion promedio de llamadas, estas suelen durar aprox. 7 minutos para cada tipo de plan; tendencia que se mantiene a lo largo del anho. En relacion a las distribuciones de minutos utilizados, ambas presentan medias y medianas cercanas a 400 minutos promedio mensuales y un ligero sesgo hacia la derecha.\n",
    "\n",
    "Sin embargo, podemos apreciar que la distribucion del plan surf presenta una mayor cantidad de instancias, una menor moda y tiene una cola derecha mas alargada (Q3 mas alto y bigote derecho mas largo). Es decir, los valores se encuentran mas dispersos.\n",
    "\n",
    "Finalmente, podemos observar que casi la mitad de los usuarios del plan surf se exceden en la cantidad de minutos que brinda su plan. Dado el bajo costo por cada minuto extra, no parece probable poder ofrecerles un plan alternativo."
   ]
  },
  {
   "cell_type": "markdown",
   "metadata": {
    "id": "8idKy8Wh0q1L"
   },
   "source": [
    "### Mensajes"
   ]
  },
  {
   "cell_type": "code",
   "execution_count": 94,
   "metadata": {
    "id": "NXLxiTit0q1L"
   },
   "outputs": [
    {
     "data": {
      "image/png": "[encoded data removed]",
      "text/plain": [
       "<Figure size 432x288 with 1 Axes>"
      ]
     },
     "metadata": {
      "needs_background": "light"
     },
     "output_type": "display_data"
    }
   ],
   "source": [
    "# Comprara el número de mensajes que tienden a enviar cada mes los usuarios de cada plan\n",
    "all_users_month_plans[all_users_month_plans['plan'] == 'surf']['messages'].replace(0, np.nan).groupby('user_id').mean().plot(kind='hist', \n",
    "                                                                                                                            bins=[0, 10, 20, 30, 40, 50, 60, 70, 80, 90, 100, 110, 120, 130, 140, 150, 160])\n",
    "all_users_month_plans[all_users_month_plans['plan'] == 'ultimate']['messages'].replace(0, np.nan).groupby('user_id').mean().plot(kind='hist', \n",
    "                                                                                                                            bins=[0, 10, 20, 30, 40, 50, 60, 70, 80, 90, 100, 110, 120, 130, 140, 150, 160],\n",
    "                                                                                                                                alpha=0.8)\n",
    "plt.ylabel('Cantidad de usuarios')\n",
    "plt.xlabel('Mensajes mensuales enviados')\n",
    "plt.legend(['surf', 'ultimate'])\n",
    "plt.title('Numero de mensajes por tipo de plan')\n",
    "plt.show()"
   ]
  },
  {
   "cell_type": "code",
   "execution_count": 95,
   "metadata": {
    "id": "GRI_R7xF0q1L"
   },
   "outputs": [
    {
     "name": "stdout",
     "output_type": "stream",
     "text": [
      "Plan Surf\n",
      "Media de mensajes mensuales enviados:  19.903122061455395\n",
      "Varianza de mensajes mensuales enviados:  526.0464991743875\n",
      "Desv.Est. de mensajes mensuales enviados:  22.935703590131858\n",
      "Plan Ultimate\n",
      "Media de mensajes mensuales enviados:  23.559166505822557\n",
      "Varianza de mensajes mensuales enviados:  644.832063036083\n",
      "Desv.Est. de mensajes mensuales enviados:  25.393543727413924\n"
     ]
    }
   ],
   "source": [
    "# Compara la cantidad de tráfico de Internet consumido por usuarios por plan\n",
    "# Esto va en la seccion internet, se procede con metricas estadisticas de los mensajes\n",
    "# Plan surf\n",
    "# Media\n",
    "avg_month_messages_surf = all_users_month_plans[all_users_month_plans['plan'] == 'surf']['messages'].replace(0, np.nan).groupby('user_id').mean().fillna(0).mean()\n",
    "# Varianza\n",
    "var_month_messages_surf = all_users_month_plans[all_users_month_plans['plan'] == 'surf']['messages'].replace(0, np.nan).groupby('user_id').mean().fillna(0).var()\n",
    "\n",
    "# Se imprimen los valores\n",
    "print('Plan Surf')\n",
    "print('Media de mensajes mensuales enviados: ', avg_month_messages_surf)\n",
    "print('Varianza de mensajes mensuales enviados: ', var_month_messages_surf)\n",
    "print('Desv.Est. de mensajes mensuales enviados: ', np.sqrt(var_month_messages_surf))\n",
    "\n",
    "# Plan Ultimate\n",
    "# Media\n",
    "avg_month_messages_ultimate = all_users_month_plans[all_users_month_plans['plan'] == 'ultimate']['messages'].replace(0, np.nan).groupby('user_id').mean().fillna(0).mean()\n",
    "# Varianza\n",
    "var_month_messages_ultimate = all_users_month_plans[all_users_month_plans['plan'] == 'ultimate']['messages'].replace(0, np.nan).groupby('user_id').mean().fillna(0).var()\n",
    "\n",
    "# Se imprimen los valores\n",
    "print('Plan Ultimate')\n",
    "print('Media de mensajes mensuales enviados: ', avg_month_messages_ultimate)\n",
    "print('Varianza de mensajes mensuales enviados: ', var_month_messages_ultimate)\n",
    "print('Desv.Est. de mensajes mensuales enviados: ', np.sqrt(var_month_messages_ultimate))"
   ]
  },
  {
   "cell_type": "code",
   "execution_count": 96,
   "metadata": {
    "id": "dtFwCGAp0q1M"
   },
   "outputs": [
    {
     "data": {
      "image/png": "[encoded data removed]",
      "text/plain": [
       "<Figure size 432x288 with 2 Axes>"
      ]
     },
     "metadata": {
      "needs_background": "light"
     },
     "output_type": "display_data"
    }
   ],
   "source": [
    "# Se procede a realizar un diagrama de cajas de ambas distribuciones\n",
    "# Se generasn subplots\n",
    "fig, axes = plt.subplots(2, 1, sharex=True)\n",
    "# Para el plan surf\n",
    "# Se genera un diagrama de cajas\n",
    "all_users_month_plans[all_users_month_plans['plan'] == 'surf']['messages'].replace(0, np.nan).groupby('user_id').mean().fillna(0).rename('surf').to_frame().boxplot(ax=axes[0], vert=False)\n",
    "# Para el plan ultimate\n",
    "# Se genera un diagrama de cajas\n",
    "all_users_month_plans[all_users_month_plans['plan'] == 'ultimate']['messages'].replace(0, np.nan).groupby('user_id').mean().fillna(0).rename('ultimate').to_frame().boxplot(ax=axes[1], vert=False)\n",
    "plt.xlabel('Mensajes mensuales enviados')\n",
    "plt.xlim([-10, 160])\n",
    "fig.suptitle('Mensajes enviados mensualmente por tipo de plan ')\n",
    "plt.show()"
   ]
  },
  {
   "cell_type": "markdown",
   "metadata": {
    "id": "390SSL480q1M"
   },
   "source": [
    "En ambos casos, se puede observar una tendencia similar en la que la mayor cantidad de usuarios envia una menor cantidad de mensajes.\n",
    "\n",
    "Sin embargo, en el caso del plan surf la pendiente es mucho mas pronunciada. Esto lleva a que tenga una media y mediana menor que el plan ultimate, ya que hay una mayor concentracion de usuarios en el lado izquierdo de la distribucion (menor cantidad de mensajes), y una mayor cantidad de datos atipicos.\n",
    "\n",
    "Ademas, la distribucion del plan ultimate presenta un mayor sesgo hacia la derecha (se puede apreciar en el bigote derecho mas extendido y en el Q3), lo que concuerda con su mayor dispersion expresada en su mayor varianza.\n",
    "\n",
    "Podemos decir que si bien las tendencias de comportamiento de los usuarios son similares, existen mayor diferencia que con el caso de las llamadas.\n",
    "\n",
    "Finalmente, muy pocos usuarios del plan surf mandan mayor cantidad de mensajes de los que tiene su plan."
   ]
  },
  {
   "cell_type": "markdown",
   "metadata": {
    "id": "42YSypXz0q1M"
   },
   "source": [
    "### Internet"
   ]
  },
  {
   "cell_type": "code",
   "execution_count": 97,
   "metadata": {
    "id": "lSuKPtjh0q1M"
   },
   "outputs": [
    {
     "data": {
      "image/png": "[encoded data removed]",
      "text/plain": [
       "<Figure size 432x288 with 1 Axes>"
      ]
     },
     "metadata": {
      "needs_background": "light"
     },
     "output_type": "display_data"
    }
   ],
   "source": [
    "# Compara la cantidad de tráfico de Internet consumido por usuarios por plan\n",
    "((all_users_month_plans[all_users_month_plans['plan'] == 'surf']['mb_used']) / 1024).replace(0, np.nan).groupby('user_id').mean().plot(kind='hist',\n",
    "                                                                                                                                      bins=[0, 5, 10, 15, 20, 25, 30, 35, 40, 45, 50, 55, 60, 65, 70, 75, 80])\n",
    "((all_users_month_plans[all_users_month_plans['plan'] == 'ultimate']['mb_used']) / 1024).replace(0, np.nan).groupby('user_id').mean().plot(kind='hist', \n",
    "                                                                                                                            bins=[0, 5, 10, 15, 20, 25, 30, 35, 40, 45, 50, 55, 60, 65, 70, 75, 80],\n",
    "                                                                                                                                alpha=0.8)\n",
    "plt.ylabel('Cantidad de usuarios')\n",
    "plt.xlabel('GB utilizados mensualmente')\n",
    "plt.legend(['surf', 'ultimate'])\n",
    "plt.title('Uso mensual de internet por tipo de plan')\n",
    "plt.show()\n"
   ]
  },
  {
   "cell_type": "code",
   "execution_count": 98,
   "metadata": {
    "id": "wnh8jYXi0q1N"
   },
   "outputs": [
    {
     "name": "stdout",
     "output_type": "stream",
     "text": [
      "Plan Surf\n",
      "Media de GB mensuales utilizados:  10.607984543647873\n",
      "Varianza de GB mensuales utilizados:  83.9472430883831\n",
      "Desv.Est. de GB mensuales utilizados:  9.162272812374837\n",
      "Plan Ultimate\n",
      "Media de GB mensuales utilizados:  11.142259701985214\n",
      "Varianza de GB mensuales utilizados:  79.98502788104888\n",
      "Varianza de GB mensuales utilizados:  8.943434903942046\n"
     ]
    }
   ],
   "source": [
    "# Se calculan estadisticos del consumo de internet\n",
    "# Plan surf\n",
    "# Media\n",
    "avg_month_mb_surf = all_users_month_plans[all_users_month_plans['plan'] == 'surf']['mb_used'].replace(0, np.nan).groupby('user_id').mean().fillna(0).mean()\n",
    "# Varianza\n",
    "var_month_mb_surf = all_users_month_plans[all_users_month_plans['plan'] == 'surf']['mb_used'].replace(0, np.nan).groupby('user_id').mean().fillna(0).var()\n",
    "\n",
    "# Se imprimen los valores\n",
    "print('Plan Surf')\n",
    "print('Media de GB mensuales utilizados: ', avg_month_mb_surf / 1024)\n",
    "print('Varianza de GB mensuales utilizados: ', var_month_mb_surf / (1024*1024))\n",
    "print('Desv.Est. de GB mensuales utilizados: ', np.sqrt(var_month_mb_surf) / 1024)\n",
    "\n",
    "# Plan Ultimate\n",
    "# Media\n",
    "avg_month_mb_ultimate = all_users_month_plans[all_users_month_plans['plan'] == 'ultimate']['mb_used'].replace(0, np.nan).groupby('user_id').mean().fillna(0).mean()\n",
    "# Varianza\n",
    "var_month_mb_ultimate = all_users_month_plans[all_users_month_plans['plan'] == 'ultimate']['mb_used'].replace(0, np.nan).groupby('user_id').mean().fillna(0).var()\n",
    "\n",
    "# Se imprimen los valores\n",
    "print('Plan Ultimate')\n",
    "print('Media de GB mensuales utilizados: ', avg_month_mb_ultimate / 1024)\n",
    "print('Varianza de GB mensuales utilizados: ', var_month_mb_ultimate / (1024*1024))\n",
    "print('Varianza de GB mensuales utilizados: ', np.sqrt(var_month_mb_ultimate) / 1024)"
   ]
  },
  {
   "cell_type": "code",
   "execution_count": 99,
   "metadata": {
    "id": "5VlyJ9ry0q1N"
   },
   "outputs": [
    {
     "data": {
      "image/png": "[encoded data removed]",
      "text/plain": [
       "<Figure size 432x288 with 2 Axes>"
      ]
     },
     "metadata": {
      "needs_background": "light"
     },
     "output_type": "display_data"
    }
   ],
   "source": [
    "# Se procede a realizar un diagrama de cajas de ambas distribuciones\n",
    "# Se generasn subplots\n",
    "fig, axes = plt.subplots(2, 1, sharex=True)\n",
    "# Para el plan surf\n",
    "# Se genera un diagrama de cajas\n",
    "((all_users_month_plans[all_users_month_plans['plan'] == 'surf']['mb_used']) / 1024).replace(0, np.nan).groupby('user_id').mean().fillna(0).rename('surf').to_frame().boxplot(ax=axes[0], vert=False)\n",
    "# Para el plan ultimate\n",
    "# Se genera un diagrama de cajas\n",
    "((all_users_month_plans[all_users_month_plans['plan'] == 'ultimate']['mb_used']) / 1024).replace(0, np.nan).groupby('user_id').mean().fillna(0).rename('ultimate').to_frame().boxplot(ax=axes[1], vert=False)\n",
    "plt.xlabel('GBs utilizados')\n",
    "plt.xticks([0, 10, 20, 30, 40, 50, 60, 70, 80])\n",
    "plt.xlim([-10, 90])\n",
    "fig.suptitle('Uso mensual de internet por tipo de plan ')\n",
    "plt.show()"
   ]
  },
  {
   "cell_type": "markdown",
   "metadata": {
    "id": "UN9zwuMP0q1N"
   },
   "source": [
    "Se puede observar que existen similitudes en el coportamiento de los usuarios en cuanto al consumo de internet. Tenemos dos distribuciones sesgadas a la derecha y una tenedencia a que disminuya la cantidad de usuarios mayor sea el consumo. \n",
    "\n",
    "Una diferencia notable es que en el caso de los usuarios del plan ultimate, existe un incremento de usuarios en el rango de 5 a 10 GB, incremento que no existe en los usuarios del plan surf.\n",
    "\n",
    "Ambas distribuciones presentan datos atipicos luego de los 30 GBs aproximadamente. La diferencia es que en el caso del plan ultimate se encuentran casi uniformemente distribuidos en el rango de 30 a 50 GB. En cambio, en el plan surf estan acumulados alrededor de los 30 GB.\n",
    "\n",
    "Finalmente, alrededor de 25% de los usuarios del plan surf excede los 15 GB que ofrece su plan (Q3 aproximadamente en 15 GB). Dado el costo de 10 por cada GB utilizado en exceso, otro plan podria servir mejor a sus necesidades. "
   ]
  },
  {
   "cell_type": "markdown",
   "metadata": {
    "id": "tCijq3260q1N"
   },
   "source": [
    "## Ingreso"
   ]
  },
  {
   "cell_type": "code",
   "execution_count": 100,
   "metadata": {},
   "outputs": [],
   "source": [
    "# Se separa el df por tipo de plan\n",
    "all_users_month_surf = all_users_month_plans[all_users_month_plans['plan'] == 'surf']\n",
    "all_users_month_ultimate = all_users_month_plans[all_users_month_plans['plan'] == 'ultimate']"
   ]
  },
  {
   "cell_type": "code",
   "execution_count": 103,
   "metadata": {},
   "outputs": [],
   "source": [
    "# Se calculan los ingresos para cada tipo de plan\n",
    "# Plan surf\n",
    "# Ingreso por llamadas\n",
    "income_calls_user_month_surf = ((all_users_month_surf['charged_duration'] - all_users_month_surf['minutes_included']).clip(0, None))*all_users_month_surf['usd_per_minute']\n",
    "# Ingreso por mensajes\n",
    "income_messages_user_month_surf = ((all_users_month_surf['messages'] - all_users_month_surf['messages_included']).clip(0, None))*all_users_month_surf['usd_per_message']\n",
    "# Ingreso por mbs\n",
    "income_mb_user_month_surf = (np.ceil(all_users_month_surf['mb_used'] / 1024) - np.ceil(all_users_month_surf['mb_per_month_included'] / 1024)).clip(0, None)*all_users_month_surf['usd_per_gb']\n",
    "# Ingreso total\n",
    "income_total_users_month_surf = income_calls_user_month_surf + income_messages_user_month_surf + income_mb_user_month_surf + all_users_month_surf['usd_monthly_pay']\n",
    "\n",
    "#PLan Ultimate\n",
    "# Ingreso por llamadas\n",
    "income_calls_user_month_ultimate = ((all_users_month_ultimate['charged_duration'] - all_users_month_ultimate['minutes_included']).clip(0, None))*all_users_month_ultimate['usd_per_minute']\n",
    "# Ingreso por mensajes\n",
    "income_messages_user_month_ultimate = ((all_users_month_ultimate['messages'] - all_users_month_ultimate['messages_included']).clip(0, None))*all_users_month_ultimate['usd_per_message']\n",
    "# Ingreso por mbs\n",
    "income_mb_user_month_ultimate = (np.ceil(all_users_month_ultimate['mb_used'] / 1024) - np.ceil(all_users_month_ultimate['mb_per_month_included'] / 1024)).clip(0, None)*all_users_month_ultimate['usd_per_gb']\n",
    "# Ingreso total\n",
    "income_total_users_month_ultimate = income_calls_user_month_ultimate + income_messages_user_month_ultimate + income_mb_user_month_ultimate + all_users_month_ultimate['usd_monthly_pay']"
   ]
  },
  {
   "cell_type": "code",
   "execution_count": 105,
   "metadata": {
    "id": "tz-dq_V00q1O"
   },
   "outputs": [
    {
     "data": {
      "image/png": "[encoded data removed]",
      "text/plain": [
       "<Figure size 432x288 with 1 Axes>"
      ]
     },
     "metadata": {
      "needs_background": "light"
     },
     "output_type": "display_data"
    }
   ],
   "source": [
    "# Se elaboran histogramas para los ingresos producto de cada plan\n",
    "# PLan surf\n",
    "income_total_users_month_surf.groupby('user_id').mean().plot(kind='hist',\n",
    "                                                            bins=100)\n",
    "# Plan Ultimate\n",
    "income_total_users_month_ultimate.groupby('user_id').mean().plot(kind='hist',\n",
    "                                                            bins=100,\n",
    "                                                                alpha=0.8)\n",
    "plt.ylabel('Cantidad de usuarios')\n",
    "# Se \n",
    "plt.xlabel('Ingreso mensual promedio')\n",
    "plt.xticks([0, 20, 50, 70, 100, 150, 200, 250])\n",
    "plt.legend(['surf', 'ultimate'])\n",
    "plt.title('Ingresos mensuales por tipo de plan')\n",
    "plt.show()"
   ]
  },
  {
   "cell_type": "code",
   "execution_count": 48,
   "metadata": {
    "id": "0Y1v8ZUz0q1P",
    "scrolled": true
   },
   "outputs": [
    {
     "name": "stdout",
     "output_type": "stream",
     "text": [
      "Plan Surf\n",
      "Ingreso promedio mensual:  40.8839970695804\n",
      "Varianza del ingreso promedio mensual:  1238.3204455638747\n",
      "Desv. Est. del ingreso promedio mensual:  35.18977757195795\n",
      "Plan Ultimate\n",
      "Ingreso promedio mensual:  75.30148780801646\n",
      "Varianza del ingreso promedio mensual:  235.09953466579455\n",
      "Desv. Est. del ingreso promedio mensual:  15.332955835904391\n"
     ]
    }
   ],
   "source": [
    "# Se calculan estadisticos\n",
    "#Plan Surf\n",
    "#Media\n",
    "avg_month_income_surf = income_total_users_month_surf.groupby('user_id').mean().mean()\n",
    "# Varianza\n",
    "var_month_income_surf = income_total_users_month_surf.groupby('user_id').mean().var()\n",
    "\n",
    "# Se imprimen resultados\n",
    "print('Plan Surf')\n",
    "print('Ingreso promedio mensual: ', avg_month_income_surf)\n",
    "print('Varianza del ingreso promedio mensual: ', var_month_income_surf)\n",
    "print('Desv. Est. del ingreso promedio mensual: ', np.sqrt(var_month_income_surf))\n",
    "\n",
    "#Plan Ultimate\n",
    "#Media\n",
    "avg_month_income_ultimate = income_total_users_month_ultimate.groupby('user_id').mean().mean()\n",
    "# Varianza\n",
    "var_month_income_ultimate = income_total_users_month_ultimate.groupby('user_id').mean().var()\n",
    "\n",
    "# Se imprimen resultados\n",
    "print('Plan Ultimate')\n",
    "print('Ingreso promedio mensual: ', avg_month_income_ultimate)\n",
    "print('Varianza del ingreso promedio mensual: ', var_month_income_ultimate)\n",
    "print('Desv. Est. del ingreso promedio mensual: ', np.sqrt(var_month_income_ultimate))"
   ]
  },
  {
   "cell_type": "code",
   "execution_count": 49,
   "metadata": {
    "id": "bYmwxyVh0q1P"
   },
   "outputs": [
    {
     "name": "stdout",
     "output_type": "stream",
     "text": [
      "Plan Surf\n",
      "count    333.000000\n",
      "mean      40.883997\n",
      "std       35.189778\n",
      "min       20.000000\n",
      "25%       20.043333\n",
      "50%       22.046667\n",
      "75%       48.333333\n",
      "max      244.646364\n",
      "dtype: float64\n",
      "\n",
      "Plan Ultimate\n",
      "count    157.000000\n",
      "mean      75.301488\n",
      "std       15.332956\n",
      "min       70.000000\n",
      "25%       70.000000\n",
      "50%       70.000000\n",
      "75%       70.000000\n",
      "max      180.600000\n",
      "dtype: float64\n"
     ]
    }
   ],
   "source": [
    "# Debido a la alta concentracion de los datos, esta representacion no resulta util\n",
    "# Se prefiere el metodo describe\n",
    "# PLan Surf\n",
    "print('Plan Surf')\n",
    "print(income_total_users_month_surf.groupby('user_id').mean().describe())\n",
    "print('')\n",
    "#Plan Ultimate\n",
    "print('Plan Ultimate')\n",
    "print(income_total_users_month_ultimate.groupby('user_id').mean().describe())"
   ]
  },
  {
   "cell_type": "code",
   "execution_count": 50,
   "metadata": {},
   "outputs": [
    {
     "data": {
      "image/png": "[encoded data removed]",
      "text/plain": [
       "<Figure size 432x288 with 2 Axes>"
      ]
     },
     "metadata": {
      "needs_background": "light"
     },
     "output_type": "display_data"
    }
   ],
   "source": [
    "# Se procede con el diagrama de cajas\n",
    "# Se generasn subplots\n",
    "fig, axes = plt.subplots(2, 1, sharex=True)\n",
    "# Para el plan surf\n",
    "# Se genera un diagrama de cajas\n",
    "income_total_users_month_surf.groupby('user_id').mean().rename('surf').to_frame().boxplot(ax=axes[0], vert=False)\n",
    "# Para el plan ultimate\n",
    "# Se genera un diagrama de cajas\n",
    "income_total_users_month_ultimate.groupby('user_id').mean().rename('ultimate').to_frame().boxplot(ax=axes[1], vert=False)\n",
    "plt.xlabel('Ingreso mensual promedio')\n",
    "# Se resaltan los valores de 20 y 70 por ser los costos fijos de los planes\n",
    "plt.xticks([0, 20, 50, 70,100, 150, 200, 250])\n",
    "#plt.xlim([-10, 90])\n",
    "fig.suptitle('Ingreso mensual por tipo de plan')\n",
    "plt.show()"
   ]
  },
  {
   "cell_type": "markdown",
   "metadata": {
    "id": "KAFidcXZ0q1P"
   },
   "source": [
    "Se puede apreciar que ambas distribuciones estan fuertemente localizadas en el costo mensual de cada uno de los planes. Es decir, la mayoria de usuarios gasta mensualmente en promedio el costo de su plan o un poco mas. Esto se ve fuertemente reforzado por los estadisticos y el diagrama de cajas. Se podria decir que en promedio un usuario del plan ultimate es mas rentable para la empresa que uno del plan surf (aunque de estos ultimos hay una mayor cantidad, lo que podria dar una mayor cantidad de ingresos totales; mas no de ingreso por usuario).\n",
    "\n",
    "Una diferencia existe, los usuarios del plan surf estan mas dispersos, lo cual genera una larga cola derecha en la distribucion. En cambio, los usuarios del plan ultimate estan mucho mas localizados y esto se expresa en los valores de Q1, Q2 y Q3 siendo iguales.\n",
    "\n",
    "Esa dispersion en aproximadamente la mitad de usarios del plan surf genera una oportunidad interesante... La oportunidad de crear un plan intermedio que se acomode mejor a sus necesidades y produzca o un mayor ingreso a la empresa o uno mas sostenido/predecible. El valor de este plan podria situarse entre 40 y 50 dependiendo de un analisis mas minucioso."
   ]
  },
  {
   "cell_type": "markdown",
   "metadata": {
    "id": "ajJ7VKeI0q1Q"
   },
   "source": [
    "## Prueba las hipótesis estadísticas"
   ]
  },
  {
   "cell_type": "markdown",
   "metadata": {
    "id": "IQwa_hsh0q1Q"
   },
   "source": [
    "- Hipotesis Nula: Los ingresos promedio procedentes de los usuarios de los planes surf y ultimate son iguales.\n",
    "- Hipotesis Alternativa: Los ingresos promedio procedentes de los usuarios de los planes surf y ultimate son diferentes\n",
    "- La hipotesis nula se plantea como una igualdad, la hipotesis alternativa como una desigualdad. Buscamos rechazar la hipotesis nula (igualdad) y, por ende, probar la hipotesis alternativa (desigualdad)\n",
    "- Prueba estadistica a dos colas, alpha de 0.05\n",
    "- Dado que solo buscamos probar igualdad o desigualdad, utilizamos la preba a dos colas con el valor comun de alpha de 5%."
   ]
  },
  {
   "cell_type": "code",
   "execution_count": 51,
   "metadata": {
    "id": "nFoPNlPq0q1R"
   },
   "outputs": [
    {
     "name": "stdout",
     "output_type": "stream",
     "text": [
      "valor-p: 2.227861741184033e-42\n",
      "Rechazamos la hipótesis de que los ingresos promedio procedentes de los usuarios del plan surf son iguales a los ingresos promedio de los usuarios del plan ultimate\n",
      "Los ingresos promedio son diferentes.\n"
     ]
    }
   ],
   "source": [
    "# Prueba las hipótesis\n",
    "# Se guardan los valores de ambas distribuciones en listas\n",
    "surf_income = income_total_users_month_surf.groupby('user_id').mean().tolist()\n",
    "ultimate_income = income_total_users_month_ultimate.groupby('user_id').mean().tolist()\n",
    "\n",
    "# Alpha\n",
    "alpha = 0.05\n",
    "\n",
    "# Resultados\n",
    "results = st.ttest_ind(surf_income, ultimate_income, equal_var=False)\n",
    "print('valor-p:', results.pvalue)\n",
    "\n",
    "if (results.pvalue < alpha):\n",
    "    print(\"Rechazamos la hipótesis de que los ingresos promedio procedentes de los usuarios del plan surf son iguales a los ingresos promedio de los usuarios del plan ultimate\")\n",
    "    print(\"Los ingresos promedio son diferentes.\")\n",
    "else:\n",
    "    print(\"No podemos rechazar la hipótesis nula\")\n",
    "    "
   ]
  },
  {
   "cell_type": "markdown",
   "metadata": {
    "id": "LsBgitqj0q1R"
   },
   "source": [
    "- Hipotesis Nula: el ingreso promedio de los usuarios del area NY-NJ es igual al de otras regiones\n",
    "- Hipotesis Alternativa: el ingreso promedio de los usuarios del anrea NY-NJ es diferente al de otras regiones\n",
    "- La hipotesis nula se plantea como una igualdad, la hipotesis alternativa como una desigualdad. Buscamos rechazar la hipotesis nula (igualdad) y, por ende, probar la hipotesis alternativa (desigualdad)\n",
    "- Prueba de dos colas, alpha de 0.05\n",
    "- Dado que solo buscamos probar igualdad o desigualdad, utilizamos la preba a dos colas con el valor comun de alpha de 5%."
   ]
  },
  {
   "cell_type": "code",
   "execution_count": 52,
   "metadata": {
    "id": "Cqcj7wrZ0q1S"
   },
   "outputs": [],
   "source": [
    "# Se separan los dfs en funcion del area\n",
    "ny_nj_users = all_users_month_plans[all_users_month_plans['city'].str.contains('NY-NJ')]\n",
    "non_ny_nj_users = all_users_month_plans[~all_users_month_plans['city'].str.contains('NY-NJ')]\n",
    "\n",
    "# Se calculan los ingresos mensuales totales por usuario\n",
    "\n",
    "# NY-NJ\n",
    "# Ingreso por llamadas\n",
    "income_calls_ny_nj = ((ny_nj_users['charged_duration'] - ny_nj_users['minutes_included']).clip(0, None))*ny_nj_users['usd_per_minute']\n",
    "# Ingreso por mensajes\n",
    "income_messages_ny_nj = ((ny_nj_users['messages'] - ny_nj_users['messages_included']).clip(0, None))*ny_nj_users['usd_per_message']\n",
    "# Ingreso por mbs\n",
    "income_mb_ny_nj = (np.ceil(ny_nj_users['mb_used'] / 1024) - np.ceil(ny_nj_users['mb_per_month_included'] / 1024)).clip(0, None)*ny_nj_users['usd_per_gb']\n",
    "# Ingreso total\n",
    "income_total_ny_nj = income_calls_ny_nj + income_messages_ny_nj + income_mb_ny_nj + ny_nj_users['usd_monthly_pay']\n",
    "\n",
    "# Resto\n",
    "# Ingreso por llamadas\n",
    "income_calls_non_ny_nj = ((non_ny_nj_users['charged_duration'] - non_ny_nj_users['minutes_included']).clip(0, None))*non_ny_nj_users['usd_per_minute']\n",
    "# Ingreso por mensajes\n",
    "income_messages_non_ny_nj = ((non_ny_nj_users['messages'] - non_ny_nj_users['messages_included']).clip(0, None))*non_ny_nj_users['usd_per_message']\n",
    "# Ingreso por mbs\n",
    "income_mb_non_ny_nj = (np.ceil(non_ny_nj_users['mb_used'] / 1024) - np.ceil(non_ny_nj_users['mb_per_month_included'] / 1024)).clip(0, None)*non_ny_nj_users['usd_per_gb']\n",
    "# Ingreso total\n",
    "income_total_non_ny_nj = income_calls_non_ny_nj + income_messages_non_ny_nj + income_mb_non_ny_nj + non_ny_nj_users['usd_monthly_pay']\n"
   ]
  },
  {
   "cell_type": "code",
   "execution_count": 53,
   "metadata": {},
   "outputs": [
    {
     "data": {
      "image/png": "[encoded data removed]",
      "text/plain": [
       "<Figure size 432x288 with 1 Axes>"
      ]
     },
     "metadata": {
      "needs_background": "light"
     },
     "output_type": "display_data"
    }
   ],
   "source": [
    "# Se elaboran histogramas para visualizar los comportamientos de los usuarios de ambas areas\n",
    "income_total_non_ny_nj.groupby('user_id').mean().plot(kind='hist',\n",
    "                                                 bins=100)\n",
    "income_total_ny_nj.groupby('user_id').mean().plot(kind='hist',\n",
    "                                                 bins=100)\n",
    "plt.ylabel('Cantidad de usuarios')\n",
    "plt.xlabel('Ingreso mensual')\n",
    "plt.legend(['Otro', 'NY-NJ'])\n",
    "plt.title('Ingreso mensual promedio por area')\n",
    "plt.show()"
   ]
  },
  {
   "cell_type": "code",
   "execution_count": 54,
   "metadata": {},
   "outputs": [
    {
     "name": "stdout",
     "output_type": "stream",
     "text": [
      "NY-NJ\n",
      "count    695.000000\n",
      "mean      53.225079\n",
      "std       71.933118\n",
      "min       20.000000\n",
      "25%       20.000000\n",
      "50%       20.600000\n",
      "75%       70.000000\n",
      "max      752.550000\n",
      "dtype: float64\n",
      "Otro\n",
      "count    3615.000000\n",
      "mean       52.584495\n",
      "std        63.453641\n",
      "min        20.000000\n",
      "25%        20.000000\n",
      "50%        24.170000\n",
      "75%        70.000000\n",
      "max      1530.000000\n",
      "dtype: float64\n"
     ]
    }
   ],
   "source": [
    "# Mostramos estadisticos de ambas distrbuciones\n",
    "#NY-NJ\n",
    "print('NY-NJ')\n",
    "print(income_total_ny_nj.describe())\n",
    "print('Otro')\n",
    "print(income_total_non_ny_nj.describe())"
   ]
  },
  {
   "cell_type": "code",
   "execution_count": 55,
   "metadata": {},
   "outputs": [
    {
     "name": "stdout",
     "output_type": "stream",
     "text": [
      "valor-p: 0.8738350476031671\n",
      "No podemos rechazar la hipótesis de que el ingreso promedio de los usuarios del area NY-NJ sea igual al de otras regiones\n",
      "Las diferencias que existen entre os ingresos promedios de ambas areas son muy pequenhas para indicar que existe una diferencia estadistica significativa entre estas.\n"
     ]
    }
   ],
   "source": [
    "# Prueba las hipótesis\n",
    "# Se guardan los valores de ambas distribuciones en listas\n",
    "ny_nj_income = income_total_ny_nj.groupby('user_id').mean().tolist()\n",
    "non_ny_nj_income = income_total_non_ny_nj.groupby('user_id').mean().tolist()\n",
    "\n",
    "# Alpha\n",
    "alpha = 0.05\n",
    "\n",
    "# Resultados\n",
    "results = st.ttest_ind(ny_nj_income, non_ny_nj_income, equal_var=True)\n",
    "print('valor-p:', results.pvalue)\n",
    "\n",
    "if (results.pvalue < alpha):\n",
    "    print(\"Rechazamos la hipótesis nula\")\n",
    "else:\n",
    "    print(\"No podemos rechazar la hipótesis de que el ingreso promedio de los usuarios del area NY-NJ sea igual al de otras regiones\")\n",
    "    print(\"Las diferencias que existen entre os ingresos promedios de ambas areas son muy pequenhas para indicar que existe una diferencia estadistica significativa entre estas.\")"
   ]
  },
  {
   "cell_type": "markdown",
   "metadata": {
    "id": "bbTR8UQO0q1T"
   },
   "source": [
    "## Conclusión general\n",
    "\n",
    "- El comportamiento de los usuarios de ambos planes es bastante similar en todos los casos (llamadas, mensajes, e internet). Las distribuciones son similares en forma, mas suelen diferir en tamanho debido a la diferencia en el tamanho mismo de las poblaciones (hay mas usuarios del plan surf que del plan ultimate).\n",
    "- Existen ciertas diferencias a resaltar como que la distribucion de los usuarios del plan surf suele estar mas dispersa, a comparacion con la distribucion de los usuarios del plan utlimate.\n",
    "- En cuanto a las distribuciones de ingresos mensuales, estas estan fuertemente acumuladas alrededor de los costos mensuales fijos de los planes. Nuevamente el plan surf presentando una distribucion mas dispersa.\n",
    "- Dada la dispersion en esta ultima distribucion, existe la posibilidad de crear un plan internmedio entre los planes surf y ultimate que se acomode mejor a las necesidades de los usuarios. Esto puede permitir no solo mayores ingresos par la empresa, sino tambien ingresos mas facilmente predecibles (ingresos que no dependen de que los usuarios se excedan o no en sus consumos).\n",
    "- En cuanto a las hipotesis, se puede probar que existe una diferencia estadistica significativa entre los ingresos promedio de los usuarios del plan surf y del plan ultimate. Esto tambien se puede apreciar facilmente en los histogramas. El ingreso promedio por los usuarios del plan ultimate es mayor que el ingreso pormedio por los usuarios del plan surf. Sin embargo, esto no siginifca que en su totalidad presenten mas ingresos a la companhia, existen mas usuarios del plan surf que del plan ultimate.\n",
    "- En cuanto a diferencias entre los usuarios del area NY-NJ vs usuarios de otras areas, no existen diferencias estadisticas significativas suficientes para poder decir que los ingresos promedio entre estas dos areas difiere. Esto tambien se puede apreciar facilmente en los histogramas y en los estadisticos. Los ingresos promedio de ambas areas son iguales."
   ]
  }
 ],
 "metadata": {
  "ExecuteTimeLog": [
   {
    "duration": 828,
    "start_time": "2021-11-16T09:21:11.304Z"
   },
   {
    "duration": 893,
    "start_time": "2021-11-16T09:21:17.728Z"
   },
   {
    "duration": 1150,
    "start_time": "2021-11-16T09:21:29.568Z"
   },
   {
    "duration": 3,
    "start_time": "2021-11-16T09:24:14.495Z"
   },
   {
    "duration": 120,
    "start_time": "2021-11-16T09:24:46.630Z"
   },
   {
    "duration": 3,
    "start_time": "2021-11-16T09:28:27.882Z"
   },
   {
    "duration": 4,
    "start_time": "2021-11-16T09:29:54.281Z"
   },
   {
    "duration": 3,
    "start_time": "2021-11-16T09:30:45.936Z"
   },
   {
    "duration": 4,
    "start_time": "2021-11-16T09:31:06.300Z"
   },
   {
    "duration": 113,
    "start_time": "2021-11-16T09:31:37.208Z"
   },
   {
    "duration": 143,
    "start_time": "2021-11-16T09:31:48.656Z"
   },
   {
    "duration": 98,
    "start_time": "2021-11-16T09:31:55.678Z"
   },
   {
    "duration": 3,
    "start_time": "2021-11-16T09:32:08.535Z"
   },
   {
    "duration": 111,
    "start_time": "2021-11-16T09:32:10.120Z"
   },
   {
    "duration": 3,
    "start_time": "2021-11-16T09:32:15.732Z"
   },
   {
    "duration": 4,
    "start_time": "2021-11-16T09:32:29.423Z"
   },
   {
    "duration": 3,
    "start_time": "2021-11-16T10:03:03.074Z"
   },
   {
    "duration": 3,
    "start_time": "2021-11-16T10:10:01.288Z"
   },
   {
    "duration": 3,
    "start_time": "2021-11-16T10:10:46.923Z"
   },
   {
    "duration": 121,
    "start_time": "2021-11-16T10:37:46.494Z"
   },
   {
    "duration": 125,
    "start_time": "2021-11-16T10:38:20.632Z"
   },
   {
    "duration": 112,
    "start_time": "2021-11-16T10:46:53.001Z"
   },
   {
    "duration": 110,
    "start_time": "2021-11-16T10:48:25.775Z"
   },
   {
    "duration": 3,
    "start_time": "2021-11-16T10:50:18.720Z"
   },
   {
    "duration": 4,
    "start_time": "2021-11-16T10:50:37.649Z"
   },
   {
    "duration": 2,
    "start_time": "2021-11-16T10:50:51.884Z"
   },
   {
    "duration": 3,
    "start_time": "2021-11-16T10:51:56.237Z"
   },
   {
    "duration": 101,
    "start_time": "2021-11-16T10:53:13.791Z"
   },
   {
    "duration": 3,
    "start_time": "2021-11-16T10:55:59.186Z"
   },
   {
    "duration": 3,
    "start_time": "2021-11-16T10:56:10.751Z"
   },
   {
    "duration": 3,
    "start_time": "2021-11-16T10:56:49.038Z"
   },
   {
    "duration": 3,
    "start_time": "2021-11-16T10:56:49.174Z"
   },
   {
    "duration": 4,
    "start_time": "2021-11-16T10:56:49.414Z"
   },
   {
    "duration": 3,
    "start_time": "2021-11-16T10:56:49.680Z"
   },
   {
    "duration": 3,
    "start_time": "2021-11-16T10:56:50.370Z"
   },
   {
    "duration": 114,
    "start_time": "2021-11-16T10:59:34.518Z"
   },
   {
    "duration": 3,
    "start_time": "2021-11-16T11:01:41.201Z"
   },
   {
    "duration": 116,
    "start_time": "2021-11-16T11:01:48.754Z"
   },
   {
    "duration": 3,
    "start_time": "2021-11-16T11:02:16.685Z"
   },
   {
    "duration": 3,
    "start_time": "2021-11-16T11:02:19.479Z"
   },
   {
    "duration": 3,
    "start_time": "2021-11-16T11:02:47.067Z"
   },
   {
    "duration": 3,
    "start_time": "2021-11-16T11:02:49.353Z"
   },
   {
    "duration": 3,
    "start_time": "2021-11-16T11:03:07.835Z"
   },
   {
    "duration": 3,
    "start_time": "2021-11-16T11:03:07.953Z"
   },
   {
    "duration": 112,
    "start_time": "2021-11-16T11:07:52.072Z"
   },
   {
    "duration": 187,
    "start_time": "2021-11-16T11:09:23.468Z"
   },
   {
    "duration": 4,
    "start_time": "2021-11-16T11:10:01.455Z"
   },
   {
    "duration": 3,
    "start_time": "2021-11-16T11:10:05.069Z"
   },
   {
    "duration": 4,
    "start_time": "2021-11-16T11:10:13.376Z"
   },
   {
    "duration": 3,
    "start_time": "2021-11-16T11:10:14.434Z"
   },
   {
    "duration": 3,
    "start_time": "2021-11-16T11:10:22.853Z"
   },
   {
    "duration": 4,
    "start_time": "2021-11-16T11:27:29.279Z"
   },
   {
    "duration": 4,
    "start_time": "2021-11-16T11:29:08.919Z"
   },
   {
    "duration": 118,
    "start_time": "2021-11-16T11:29:46.703Z"
   },
   {
    "duration": 437,
    "start_time": "2021-11-16T11:36:02.181Z"
   },
   {
    "duration": 157,
    "start_time": "2021-11-16T11:36:14.388Z"
   },
   {
    "duration": 207,
    "start_time": "2021-11-16T11:47:15.898Z"
   },
   {
    "duration": 3,
    "start_time": "2021-11-16T11:53:52.092Z"
   },
   {
    "duration": 3,
    "start_time": "2021-11-16T11:53:52.236Z"
   },
   {
    "duration": 3,
    "start_time": "2021-11-16T11:59:12.005Z"
   },
   {
    "duration": 112,
    "start_time": "2021-11-16T12:00:33.446Z"
   },
   {
    "duration": 3,
    "start_time": "2021-11-16T12:02:14.453Z"
   },
   {
    "duration": 3,
    "start_time": "2021-11-16T12:02:39.512Z"
   },
   {
    "duration": 106,
    "start_time": "2021-11-16T12:03:03.460Z"
   },
   {
    "duration": 3,
    "start_time": "2021-11-17T20:37:21.139Z"
   },
   {
    "duration": 3,
    "start_time": "2021-11-17T20:37:22.229Z"
   },
   {
    "duration": 3,
    "start_time": "2021-11-17T20:38:38.806Z"
   },
   {
    "duration": 3,
    "start_time": "2021-11-17T20:38:41.958Z"
   },
   {
    "duration": 3,
    "start_time": "2021-11-17T20:43:46.551Z"
   },
   {
    "duration": 4,
    "start_time": "2021-11-17T20:58:21.835Z"
   },
   {
    "duration": 3,
    "start_time": "2021-11-17T20:59:21.872Z"
   },
   {
    "duration": 4,
    "start_time": "2021-11-17T20:59:45.352Z"
   },
   {
    "duration": 4,
    "start_time": "2021-11-17T20:59:49.646Z"
   },
   {
    "duration": 159,
    "start_time": "2021-11-17T21:02:26.949Z"
   },
   {
    "duration": 3,
    "start_time": "2021-11-17T21:03:53.461Z"
   },
   {
    "duration": 3,
    "start_time": "2021-11-17T21:03:53.694Z"
   },
   {
    "duration": 3,
    "start_time": "2021-11-17T21:05:28.145Z"
   },
   {
    "duration": 116,
    "start_time": "2021-11-17T21:05:57.787Z"
   },
   {
    "duration": 3,
    "start_time": "2021-11-17T21:06:37.993Z"
   },
   {
    "duration": 3,
    "start_time": "2021-11-17T21:06:38.261Z"
   },
   {
    "duration": 3,
    "start_time": "2021-11-17T21:11:54.358Z"
   },
   {
    "duration": 3,
    "start_time": "2021-11-17T21:12:43.846Z"
   },
   {
    "duration": 4,
    "start_time": "2021-11-17T21:13:08.773Z"
   },
   {
    "duration": 3,
    "start_time": "2021-11-17T21:14:44.441Z"
   },
   {
    "duration": 3,
    "start_time": "2021-11-17T21:15:42.059Z"
   },
   {
    "duration": 4,
    "start_time": "2021-11-17T21:15:51.995Z"
   },
   {
    "duration": 3,
    "start_time": "2021-11-17T21:15:53.923Z"
   },
   {
    "duration": 3,
    "start_time": "2021-11-17T21:15:55.282Z"
   },
   {
    "duration": 3,
    "start_time": "2021-11-17T21:16:28.492Z"
   },
   {
    "duration": 3,
    "start_time": "2021-11-17T21:16:32.603Z"
   },
   {
    "duration": 3,
    "start_time": "2021-11-17T21:17:06.941Z"
   },
   {
    "duration": 98,
    "start_time": "2021-11-17T21:18:05.733Z"
   },
   {
    "duration": 4,
    "start_time": "2021-11-17T21:21:35.255Z"
   },
   {
    "duration": 3,
    "start_time": "2021-11-17T21:21:37.804Z"
   },
   {
    "duration": 4,
    "start_time": "2021-11-17T21:23:06.071Z"
   },
   {
    "duration": 3,
    "start_time": "2021-11-17T21:23:24.799Z"
   },
   {
    "duration": 3,
    "start_time": "2021-11-17T21:23:32.591Z"
   },
   {
    "duration": 98,
    "start_time": "2021-11-17T21:28:31.559Z"
   },
   {
    "duration": 3,
    "start_time": "2021-11-17T21:28:45.448Z"
   },
   {
    "duration": 3,
    "start_time": "2021-11-17T21:29:17.303Z"
   },
   {
    "duration": 3,
    "start_time": "2021-11-17T21:29:29.617Z"
   },
   {
    "duration": 3,
    "start_time": "2021-11-17T21:29:32.681Z"
   },
   {
    "duration": 3,
    "start_time": "2021-11-17T21:36:11.474Z"
   },
   {
    "duration": 3,
    "start_time": "2021-11-17T21:36:14.791Z"
   },
   {
    "duration": 3,
    "start_time": "2021-11-17T21:36:53.943Z"
   },
   {
    "duration": 3,
    "start_time": "2021-11-17T21:36:56.165Z"
   },
   {
    "duration": 4,
    "start_time": "2021-11-17T21:37:16.590Z"
   },
   {
    "duration": 3,
    "start_time": "2021-11-17T21:37:22.702Z"
   },
   {
    "duration": 4,
    "start_time": "2021-11-17T21:38:03.479Z"
   },
   {
    "duration": 3,
    "start_time": "2021-11-17T21:38:08.601Z"
   },
   {
    "duration": 3,
    "start_time": "2021-11-17T21:38:12.928Z"
   },
   {
    "duration": 3,
    "start_time": "2021-11-17T21:38:48.896Z"
   },
   {
    "duration": 2,
    "start_time": "2021-11-17T21:38:49.171Z"
   },
   {
    "duration": 4,
    "start_time": "2021-11-17T21:39:57.889Z"
   },
   {
    "duration": 3,
    "start_time": "2021-11-17T21:39:58.057Z"
   },
   {
    "duration": 3,
    "start_time": "2021-11-17T21:41:20.108Z"
   },
   {
    "duration": 3,
    "start_time": "2021-11-17T21:41:20.629Z"
   },
   {
    "duration": 3,
    "start_time": "2021-11-17T21:42:49.136Z"
   },
   {
    "duration": 3,
    "start_time": "2021-11-17T21:43:15.137Z"
   },
   {
    "duration": 4,
    "start_time": "2021-11-17T21:43:16.766Z"
   },
   {
    "duration": 4,
    "start_time": "2021-11-17T21:43:31.711Z"
   },
   {
    "duration": 3,
    "start_time": "2021-11-17T21:43:36.312Z"
   },
   {
    "duration": 4,
    "start_time": "2021-11-17T21:45:08.825Z"
   },
   {
    "duration": 4,
    "start_time": "2021-11-17T21:45:10.119Z"
   },
   {
    "duration": 4,
    "start_time": "2021-11-17T21:45:13.748Z"
   },
   {
    "duration": 3,
    "start_time": "2021-11-17T21:45:22.219Z"
   },
   {
    "duration": 3,
    "start_time": "2021-11-17T21:45:33.412Z"
   },
   {
    "duration": 2,
    "start_time": "2021-11-17T21:46:01.885Z"
   },
   {
    "duration": 3,
    "start_time": "2021-11-17T21:46:03.628Z"
   },
   {
    "duration": 107,
    "start_time": "2021-11-17T21:47:32.512Z"
   },
   {
    "duration": 103,
    "start_time": "2021-11-17T21:50:36.243Z"
   },
   {
    "duration": 3,
    "start_time": "2021-11-18T06:28:31.440Z"
   },
   {
    "duration": 3,
    "start_time": "2021-11-18T06:29:00.168Z"
   },
   {
    "duration": 3,
    "start_time": "2021-11-18T06:31:27.008Z"
   },
   {
    "duration": 2,
    "start_time": "2021-11-18T06:35:34.288Z"
   },
   {
    "duration": 2,
    "start_time": "2021-11-18T06:38:04.527Z"
   }
  ],
  "colab": {
   "provenance": []
  },
  "kernelspec": {
   "display_name": "Python 3 (ipykernel)",
   "language": "python",
   "name": "python3"
  },
  "language_info": {
   "codemirror_mode": {
    "name": "ipython",
    "version": 3
   },
   "file_extension": ".py",
   "mimetype": "text/x-python",
   "name": "python",
   "nbconvert_exporter": "python",
   "pygments_lexer": "ipython3",
   "version": "3.9.5"
  },
  "toc": {
   "base_numbering": 1,
   "nav_menu": {},
   "number_sections": true,
   "sideBar": true,
   "skip_h1_title": false,
   "title_cell": "Table of Contents",
   "title_sidebar": "Contents",
   "toc_cell": false,
   "toc_position": {},
   "toc_section_display": true,
   "toc_window_display": true
  }
 },
 "nbformat": 4,
 "nbformat_minor": 1
}
